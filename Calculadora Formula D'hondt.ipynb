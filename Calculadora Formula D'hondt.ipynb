{
 "cells": [
  {
   "cell_type": "code",
   "execution_count": null,
   "source": [
    "def formula_dhont (cant_bancas, votos):\r\n",
    "    \r\n",
    "    lista = []\r\n",
    "    for partidos in votos:\r\n",
    "        for bancas in range(1, cant_bancas + 1): # recorro de 1 a 12 bancas (o las necesarias segun el caso)\r\n",
    "\r\n",
    "            lista.append([votos[partidos]/bancas, partidos]) # agrego a la lista vacia el cociente de la formula y los partidos.\r\n",
    "   \r\n",
    "    lista.sort()  # ordeno\r\n",
    "    lista_recortada = lista[::-1]  # invierto el orden para en la proxima variable poder hacer slicing mas comodo\r\n",
    "   \r\n",
    "    lista_ = lista_recortada[:cant_bancas]  # de toda la lista elijo los primeros \"n\" cantidad de bancas\r\n",
    "    lista_final = []\r\n",
    "\r\n",
    "    for l in lista_:\r\n",
    "      for item in l:\r\n",
    "        lista_final.append(item) \r\n",
    "\r\n",
    "    for partido in votos:\r\n",
    "        if lista_final.count(partido)==1:\r\n",
    "            print(\"El partido\", partido, \"obtuvo\", lista_final.count(partido), \"banca.\")\r\n",
    "        elif lista_final.count(partido)==0:\r\n",
    "                print(\"El partido\", partido, \"no obtuvo bancas.\")\r\n",
    "        else:\r\n",
    "            print(\"El partido\", partido, \"obtuvo\", lista_final.count(partido), \"bancas.\")\r\n",
    "\r\n",
    "\r\n",
    "votos = {}  # dict vacio se llena con los partidos y votos segun el caso. Dejamos el diccionario abajo ya armado para comprobar mas rapido que el codigo funciona. \r\n",
    "votos[\"Juntos por el Cambio\"] = 1060404\r\n",
    "votos[\"Frente Para la Victoria\"] = 641054\r\n",
    "votos[\"Consenso Federal\"] = 114968\r\n",
    "votos[\"Frente de Izquierda\"] = 122560\r\n",
    "votos[\"Unite\"] = 36420\r\n",
    "votos[\"Autodeterminacion y Libertad\"] = 24685\r\n",
    "\r\n",
    "\r\n",
    "formula_dhont(12, votos) #en el primer parametro se pone la cantidad de bancas que se disputan segun la eleccion. \r\n",
    "                        #en este ejemplo eran 12, pero se debe poner la cantidad de bancas que se disputen segun el caso."
   ],
   "outputs": [],
   "metadata": {}
  }
 ],
 "metadata": {
  "orig_nbformat": 4,
  "language_info": {
   "name": "python",
   "version": "3.9.1",
   "mimetype": "text/x-python",
   "codemirror_mode": {
    "name": "ipython",
    "version": 3
   },
   "pygments_lexer": "ipython3",
   "nbconvert_exporter": "python",
   "file_extension": ".py"
  },
  "kernelspec": {
   "name": "python3",
   "display_name": "Python 3.9.1 64-bit"
  },
  "interpreter": {
   "hash": "247ab06e135bb35fa78c5eff31b2a9a0050dcb5fb773c2631d2a29ac689eeccb"
  }
 },
 "nbformat": 4,
 "nbformat_minor": 2
}