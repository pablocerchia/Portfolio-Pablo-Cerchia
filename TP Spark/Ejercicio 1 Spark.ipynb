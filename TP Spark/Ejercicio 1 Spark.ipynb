{
  "cells": [
    {
      "cell_type": "markdown",
      "metadata": {
        "id": "VDjmKeVAqykb"
      },
      "source": [
        "# ¿Cuál es el estado con mejor rating promedio en sus negocios? ¿Por qué?"
      ]
    },
    {
      "cell_type": "code",
      "execution_count": null,
      "metadata": {
        "id": "VP652iySq1sH"
      },
      "outputs": [],
      "source": [
        "!pip install pyspark\n",
        "!pip install -U -q PyDrive\n",
        "!apt update\n",
        "!apt install openjdk-8-jdk-headless -qq\n",
        "#!apt install default-jre\n",
        "#!apt install default-jdk\n",
        "import os\n",
        "os.environ[\"JAVA_HOME\"] = \"/usr/lib/jvm/java-8-openjdk-amd64\""
      ]
    },
    {
      "cell_type": "code",
      "execution_count": null,
      "metadata": {
        "id": "IdlTdXPktmUV"
      },
      "outputs": [],
      "source": [
        "from pydrive.auth import GoogleAuth\n",
        "from pydrive.drive import GoogleDrive\n",
        "from google.colab import auth\n",
        "from oauth2client.client import GoogleCredentials\n",
        "from pyspark.sql import *\n",
        "from pyspark.sql.functions import *\n",
        "from pyspark import SparkContext\n",
        "from pyspark.sql import SQLContext\n",
        "import pandas as pd"
      ]
    },
    {
      "cell_type": "code",
      "execution_count": null,
      "metadata": {
        "id": "NKzsdpbCuaZO",
        "colab": {
          "base_uri": "https://localhost:8080/"
        },
        "outputId": "8ca5e59a-0627-4888-85e5-17f1285986d4"
      },
      "outputs": [
        {
          "output_type": "stream",
          "name": "stdout",
          "text": [
            "Mounted at /content/drive\n"
          ]
        }
      ],
      "source": [
        "from google.colab import drive\n",
        "drive.mount('/content/drive')"
      ]
    },
    {
      "cell_type": "code",
      "execution_count": null,
      "metadata": {
        "id": "xRvw3gUfy05D"
      },
      "outputs": [],
      "source": [
        "# create the Spark Session\n",
        "spark = SparkSession.builder.getOrCreate()\n",
        "\n",
        "# create the Spark Context\n",
        "sc = spark.sparkContext"
      ]
    },
    {
      "cell_type": "code",
      "source": [
        "sqlContext = SQLContext(sc)"
      ],
      "metadata": {
        "id": "v6uQOnUvIqY5",
        "colab": {
          "base_uri": "https://localhost:8080/"
        },
        "outputId": "5c57f305-def2-49ff-85ac-db895c3932d3"
      },
      "execution_count": null,
      "outputs": [
        {
          "output_type": "stream",
          "name": "stderr",
          "text": [
            "/usr/local/lib/python3.7/dist-packages/pyspark/sql/context.py:114: FutureWarning: Deprecated in 3.0.0. Use SparkSession.builder.getOrCreate() instead.\n",
            "  FutureWarning,\n"
          ]
        }
      ]
    },
    {
      "cell_type": "code",
      "execution_count": null,
      "metadata": {
        "colab": {
          "base_uri": "https://localhost:8080/"
        },
        "id": "HnK3Bej3zfSw",
        "outputId": "f1d95427-6cbd-4282-f902-a36fffb4c040"
      },
      "outputs": [
        {
          "name": "stderr",
          "output_type": "stream",
          "text": [
            "/usr/local/lib/python3.7/dist-packages/pyspark/sql/context.py:114: FutureWarning: Deprecated in 3.0.0. Use SparkSession.builder.getOrCreate() instead.\n",
            "  FutureWarning,\n"
          ]
        }
      ],
      "source": [
        "sqlContext = SQLContext(sc)\n",
        "df = pd.read_csv('/content/drive/MyDrive/ODD tp 1 dataset/business.csv')\n",
        "df = df.to_parquet('/content/drive/MyDrive/ODD tp 1 dataset/business2.parquet')"
      ]
    },
    {
      "cell_type": "code",
      "execution_count": null,
      "metadata": {
        "id": "uD73zYnfGQ8W"
      },
      "outputs": [],
      "source": [
        "df = sqlContext.read.parquet('/content/drive/MyDrive/ODD tp 1 dataset/business2.parquet', header=True, inferSchema=True)\n",
        "rdd = df.rdd"
      ]
    },
    {
      "cell_type": "code",
      "execution_count": null,
      "metadata": {
        "colab": {
          "base_uri": "https://localhost:8080/"
        },
        "id": "HPfLxdaOSTwf",
        "outputId": "1597ef2f-9532-40d0-84b4-fecc71fb2f3c"
      },
      "outputs": [
        {
          "output_type": "execute_result",
          "data": {
            "text/plain": [
              "[Row(business_id='Pns2l4eNsfO8kk83dixA6A', name='Abby Rappoport, LAC, CMQ', address='1616 Chapala St, Ste 2', city='Santa Barbara', state='CA', postal_code='93101', latitude=34.4266787, longitude=-119.7111968, stars=5.0, review_count=0.0, is_open=0, attributes=\"{'ByAppointmentOnly': 'True'}\", categories='Doctors, Traditional Chinese Medicine, Naturopathic/Holistic, Acupuncture, Health & Medical, Nutritionists', hours=None),\n",
              " Row(business_id='mpf3x-BjTdTEA3yCZrAYPw', name='The UPS Store', address='87 Grasso Plaza Shopping Center', city='Affton', state='MO', postal_code='63123', latitude=38.551126, longitude=-90.335695, stars=3.0, review_count=8.0, is_open=1, attributes=\"{'BusinessAcceptsCreditCards': 'True'}\", categories='Shipping Centers, Local Services, Notaries, Mailbox Centers, Printing Services', hours=\"{'Monday': '0:0-0:0', 'Tuesday': '8:0-18:30', 'Wednesday': '8:0-18:30', 'Thursday': '8:0-18:30', 'Friday': '8:0-18:30', 'Saturday': '8:0-14:0'}\"),\n",
              " Row(business_id='tUFrWirKiKi_TAnsVWINQQ', name='Target', address='5255 E Broadway Blvd', city='Tucson', state='AZ', postal_code='85711', latitude=32.223236, longitude=-110.880452, stars=3.5, review_count=11.0, is_open=0, attributes='{\\'BikeParking\\': \\'True\\', \\'BusinessAcceptsCreditCards\\': \\'True\\', \\'RestaurantsPriceRange2\\': \\'2\\', \\'CoatCheck\\': \\'False\\', \\'RestaurantsTakeOut\\': \\'False\\', \\'RestaurantsDelivery\\': \\'False\\', \\'Caters\\': \\'False\\', \\'WiFi\\': \"u\\'no\\'\", \\'BusinessParking\\': \"{\\'garage\\': False, \\'street\\': False, \\'validated\\': False, \\'lot\\': True, \\'valet\\': False}\", \\'WheelchairAccessible\\': \\'True\\', \\'HappyHour\\': \\'False\\', \\'OutdoorSeating\\': \\'False\\', \\'HasTV\\': \\'False\\', \\'RestaurantsReservations\\': \\'False\\', \\'DogsAllowed\\': \\'False\\', \\'ByAppointmentOnly\\': \\'False\\'}', categories='Department Stores, Shopping, Fashion, Home & Garden, Electronics, Furniture Stores', hours=\"{'Monday': '8:0-22:0', 'Tuesday': '8:0-22:0', 'Wednesday': '8:0-22:0', 'Thursday': '8:0-22:0', 'Friday': '8:0-23:0', 'Saturday': '8:0-23:0', 'Sunday': '8:0-22:0'}\"),\n",
              " Row(business_id='MTSW4McQd7CbVtyjqoe9mw', name='St Honore Pastries', address='935 Race St', city='Philadelphia', state='PA', postal_code='19107', latitude=39.9555052, longitude=-75.1555641, stars=4.0, review_count=37.0, is_open=1, attributes='{\\'RestaurantsDelivery\\': \\'False\\', \\'OutdoorSeating\\': \\'False\\', \\'BusinessAcceptsCreditCards\\': \\'False\\', \\'BusinessParking\\': \"{\\'garage\\': False, \\'street\\': True, \\'validated\\': False, \\'lot\\': False, \\'valet\\': False}\", \\'BikeParking\\': \\'True\\', \\'RestaurantsPriceRange2\\': \\'1\\', \\'RestaurantsTakeOut\\': \\'True\\', \\'ByAppointmentOnly\\': \\'False\\', \\'WiFi\\': \"u\\'free\\'\", \\'Alcohol\\': \"u\\'none\\'\", \\'Caters\\': \\'True\\'}', categories='Restaurants, Food, Bubble Tea, Coffee & Tea, Bakeries', hours=\"{'Monday': '7:0-20:0', 'Tuesday': '7:0-20:0', 'Wednesday': '7:0-20:0', 'Thursday': '7:0-20:0', 'Friday': '7:0-21:0', 'Saturday': '7:0-21:0', 'Sunday': '7:0-21:0'}\"),\n",
              " Row(business_id='mWMc6_wTdE0EUBKIGXDVfA', name='Perkiomen Valley Brewery', address='101 Walnut St', city='Green Lane', state='PA', postal_code='18054', latitude=40.3381827, longitude=-75.4716585, stars=4.5, review_count=13.0, is_open=1, attributes='{\\'BusinessAcceptsCreditCards\\': \\'True\\', \\'WheelchairAccessible\\': \\'True\\', \\'RestaurantsTakeOut\\': \\'True\\', \\'BusinessParking\\': \"{\\'garage\\': None, \\'street\\': None, \\'validated\\': None, \\'lot\\': True, \\'valet\\': False}\", \\'BikeParking\\': \\'True\\', \\'GoodForKids\\': \\'True\\', \\'Caters\\': \\'False\\'}', categories='Brewpubs, Breweries, Food', hours=\"{'Wednesday': '14:0-22:0', 'Thursday': '16:0-22:0', 'Friday': '12:0-22:0', 'Saturday': '12:0-22:0', 'Sunday': '12:0-18:0'}\")]"
            ]
          },
          "metadata": {},
          "execution_count": 7
        }
      ],
      "source": [
        "rdd.take(5)"
      ]
    },
    {
      "cell_type": "code",
      "execution_count": null,
      "metadata": {
        "colab": {
          "base_uri": "https://localhost:8080/"
        },
        "id": "pWdtBB20SwEg",
        "outputId": "63d3ff72-8d0b-43ee-e947-b8efe43c9f49"
      },
      "outputs": [
        {
          "output_type": "execute_result",
          "data": {
            "text/plain": [
              "[4.0, 4.5, 2.0, 2.5, 5.0, 3.0, 3.5, 1.5, 1.0]"
            ]
          },
          "metadata": {},
          "execution_count": 14
        }
      ],
      "source": [
        "rdd.map(lambda x: x.stars).distinct().collect()"
      ]
    },
    {
      "cell_type": "code",
      "execution_count": null,
      "metadata": {
        "id": "AIQT8mbPbTAp"
      },
      "outputs": [],
      "source": [
        "rdd_sliced = rdd.map(lambda x: (x.state, x.stars))"
      ]
    },
    {
      "cell_type": "code",
      "execution_count": null,
      "metadata": {
        "id": "YULfeGpLhbYC"
      },
      "outputs": [],
      "source": [
        "# hago que las stars sean key y pongo un 1 para contar. \n",
        "# sumo las stars y sumo las ocurrencias.  \n",
        "# para sacar el promedio divido entre la suma de los puntajes (stars) y la cantidad de puntajes que habia\n",
        "\n",
        "\n",
        "estado_mejor_promedio = rdd_sliced \\\n",
        "    .mapValues(lambda v: (v, 1)) \\\n",
        "    .reduceByKey(lambda a,b: (a[0]+b[0], a[1]+b[1])) \\\n",
        "    .mapValues(lambda v: v[0]/v[1]) \\\n",
        "    .takeOrdered(1, lambda x: -x[1])"
      ]
    },
    {
      "cell_type": "markdown",
      "metadata": {
        "id": "MVMM2uufs0_r"
      },
      "source": [
        "## El Estado con mejor rating promedio en sus negocios es..."
      ]
    },
    {
      "cell_type": "code",
      "execution_count": null,
      "metadata": {
        "colab": {
          "base_uri": "https://localhost:8080/"
        },
        "id": "jsSmy5oHslUB",
        "outputId": "b418ebe3-2461-4529-81b8-9d062121d887"
      },
      "outputs": [
        {
          "output_type": "execute_result",
          "data": {
            "text/plain": [
              "[('MT', 5.0)]"
            ]
          },
          "metadata": {},
          "execution_count": 10
        }
      ],
      "source": [
        "estado_mejor_promedio"
      ]
    },
    {
      "cell_type": "markdown",
      "metadata": {
        "id": "p5bpvtoJt6sy"
      },
      "source": [
        "## ¿Por qué? Porque tiene solo una review para sus negocios. Los Estados con más reviews tienen menor probabilidad de tener un rating promedio tan alto debido a que la muestra es mayor. \n",
        "\n"
      ]
    },
    {
      "cell_type": "code",
      "execution_count": null,
      "metadata": {
        "colab": {
          "base_uri": "https://localhost:8080/"
        },
        "id": "KAFKVBZUs9r3",
        "outputId": "db1d8234-4a80-4f55-d8b6-08a61af01085"
      },
      "outputs": [
        {
          "output_type": "execute_result",
          "data": {
            "text/plain": [
              "defaultdict(int,\n",
              "            {'CA': 5203,\n",
              "             'MO': 10913,\n",
              "             'AZ': 9912,\n",
              "             'PA': 34039,\n",
              "             'TN': 12056,\n",
              "             'FL': 26330,\n",
              "             'IN': 11247,\n",
              "             'LA': 9924,\n",
              "             'AB': 5573,\n",
              "             'NV': 7715,\n",
              "             'ID': 4467,\n",
              "             'DE': 2265,\n",
              "             'IL': 2145,\n",
              "             'NJ': 8536,\n",
              "             'NC': 1,\n",
              "             'CO': 3,\n",
              "             'WA': 2,\n",
              "             'HI': 2,\n",
              "             'UT': 1,\n",
              "             'TX': 4,\n",
              "             'MT': 1,\n",
              "             'MI': 1,\n",
              "             'SD': 1,\n",
              "             'XMS': 1,\n",
              "             'MA': 2,\n",
              "             'VI': 1,\n",
              "             'VT': 1})"
            ]
          },
          "metadata": {},
          "execution_count": 11
        }
      ],
      "source": [
        "rdd_sliced.map(lambda x: (x[0], 1)).countByKey()"
      ]
    }
  ],
  "metadata": {
    "colab": {
      "provenance": []
    },
    "kernelspec": {
      "display_name": "Python 3",
      "name": "python3"
    },
    "language_info": {
      "name": "python"
    }
  },
  "nbformat": 4,
  "nbformat_minor": 0
}