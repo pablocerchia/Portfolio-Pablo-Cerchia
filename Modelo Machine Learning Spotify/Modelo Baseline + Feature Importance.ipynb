{
  "cells": [
    {
      "cell_type": "markdown",
      "source": [
        "## Importo todo lo necesario para trabajar"
      ],
      "metadata": {
        "id": "pl6kvyvGYqm8"
      }
    },
    {
      "cell_type": "code",
      "execution_count": null,
      "metadata": {
        "id": "amLa6DpfM7Dw"
      },
      "outputs": [],
      "source": [
        "from sklearn.linear_model import LogisticRegression\n",
        "from sklearn.ensemble import RandomForestClassifier\n",
        "from sklearn.neighbors import KNeighborsClassifier\n",
        "from sklearn.tree import DecisionTreeClassifier\n",
        "from sklearn.svm import SVC, LinearSVC\n",
        "from xgboost import XGBClassifier\n",
        "\n",
        "from sklearn.model_selection import GroupShuffleSplit \n",
        "from sklearn.preprocessing import MinMaxScaler\n",
        "from sklearn.preprocessing import OneHotEncoder\n",
        "from sklearn.metrics import classification_report\n",
        "from sklearn.metrics import make_scorer, accuracy_score, roc_auc_score \n",
        "from sklearn.model_selection import GridSearchCV\n",
        "from sklearn.model_selection import train_test_split\n",
        "from scipy.stats import loguniform\n",
        "from pandas import read_csv\n",
        "from sklearn.linear_model import LogisticRegression\n",
        "from sklearn.model_selection import RepeatedStratifiedKFold\n",
        "from sklearn.model_selection import RandomizedSearchCV\n",
        "from sklearn.feature_extraction.text import TfidfVectorizer\n",
        "from sklearn.metrics import top_k_accuracy_score"
      ]
    },
    {
      "cell_type": "code",
      "execution_count": null,
      "metadata": {
        "id": "OSj43vfLjMDg"
      },
      "outputs": [],
      "source": [
        "import pandas as pd\n",
        "import numpy as np\n",
        "import matplotlib.pyplot as plt\n",
        "import seaborn as sns\n",
        "import math"
      ]
    },
    {
      "cell_type": "code",
      "execution_count": null,
      "metadata": {
        "id": "OIFwahpfj900",
        "colab": {
          "base_uri": "https://localhost:8080/"
        },
        "outputId": "fe9a358c-1e22-496e-c712-f70cedabbc30"
      },
      "outputs": [
        {
          "output_type": "stream",
          "name": "stdout",
          "text": [
            "Mounted at /content/drive\n"
          ]
        }
      ],
      "source": [
        "from google.colab import drive\n",
        "drive.mount('/content/drive')"
      ]
    },
    {
      "cell_type": "markdown",
      "metadata": {
        "id": "J1Kzc_1_-6Qh"
      },
      "source": [
        "# Abro datasets y hago split en base a artistas al azar. Genero sets de entrenamiento, validación y testeo."
      ]
    },
    {
      "cell_type": "code",
      "execution_count": null,
      "metadata": {
        "id": "1f5uINpekFq0"
      },
      "outputs": [],
      "source": [
        "df_train = pd.read_parquet('/content/drive/MyDrive/ODD tp 1 dataset/train.parquet')"
      ]
    },
    {
      "cell_type": "code",
      "execution_count": null,
      "metadata": {
        "id": "aSQ5D7xhS-FV"
      },
      "outputs": [],
      "source": [
        "df_test = pd.read_parquet('/content/drive/MyDrive/ODD tp 1 dataset/test.parquet')"
      ]
    },
    {
      "cell_type": "markdown",
      "source": [
        "**Agarro y separo 80/20 el df_train al azar por la columna artista para así conseguir sets de entrenamiento y validación**"
      ],
      "metadata": {
        "id": "ZKfAYysRYILS"
      }
    },
    {
      "cell_type": "code",
      "execution_count": null,
      "metadata": {
        "id": "k3JU4-TqHqwM"
      },
      "outputs": [],
      "source": [
        "splitter = GroupShuffleSplit(test_size=.20, n_splits=2, random_state = 26)\n",
        "split = splitter.split(df_train, groups=df_train['artist'])\n",
        "train_inds, valid_inds = next(split)\n",
        "\n",
        "train = df_train.iloc[train_inds]\n",
        "valid = df_train.iloc[valid_inds]"
      ]
    },
    {
      "cell_type": "code",
      "execution_count": null,
      "metadata": {
        "id": "Qcu6nymKIcc_"
      },
      "outputs": [],
      "source": [
        "y_train = train.genre\n",
        "X_train = train.drop([\"track_name\", \"a_genres\", \"did\", \"genre\", 'artist'], axis = 1)"
      ]
    },
    {
      "cell_type": "code",
      "execution_count": null,
      "metadata": {
        "id": "aaL-BGUpIlvW"
      },
      "outputs": [],
      "source": [
        "y_valid = valid.genre\n",
        "X_valid = valid.drop([\"track_name\", \"a_genres\", \"did\", \"genre\", 'artist'], axis = 1)"
      ]
    },
    {
      "cell_type": "code",
      "execution_count": null,
      "metadata": {
        "id": "RVRiAPBwxcn3"
      },
      "outputs": [],
      "source": [
        "y_test = df_test.genre\n",
        "X_test = df_test.drop([\"track_name\", \"a_genres\", \"did\", \"genre\", 'artist'], axis = 1)"
      ]
    },
    {
      "cell_type": "markdown",
      "metadata": {
        "id": "vyw-sr2rxVLi"
      },
      "source": [
        "# Feature engineering"
      ]
    },
    {
      "cell_type": "markdown",
      "source": [
        "**Filleo, encodeo con OHE y joine \"language\"**"
      ],
      "metadata": {
        "id": "VeHSbctOX4eS"
      }
    },
    {
      "cell_type": "code",
      "execution_count": null,
      "metadata": {
        "id": "_44ORYyA-oM0"
      },
      "outputs": [],
      "source": [
        "X_valid['language'] = X_valid['language'].fillna(X_train['language'].mode()[0])\n",
        "X_train['language'] = X_train['language'].fillna(X_train['language'].mode()[0])\n",
        "X_test['language'] = X_test['language'].fillna(X_train['language'].mode()[0])"
      ]
    },
    {
      "cell_type": "code",
      "execution_count": null,
      "metadata": {
        "colab": {
          "base_uri": "https://localhost:8080/"
        },
        "id": "o7tMwbl-Orgy",
        "outputId": "80a55405-32a0-4123-e0c7-c6d19aa6e457"
      },
      "outputs": [
        {
          "output_type": "execute_result",
          "data": {
            "text/plain": [
              "array(['language_de', 'language_en', 'language_es', 'language_fr',\n",
              "       'language_ga', 'language_gl', 'language_is', 'language_it',\n",
              "       'language_pt', 'language_rw'], dtype=object)"
            ]
          },
          "metadata": {},
          "execution_count": 11
        }
      ],
      "source": [
        "encoder = OneHotEncoder(drop='first', handle_unknown='ignore' )\n",
        "lenguaje_train = encoder.fit_transform(X_train[['language']]).todense().astype(int)\n",
        "encoder.get_feature_names_out()"
      ]
    },
    {
      "cell_type": "code",
      "execution_count": null,
      "metadata": {
        "colab": {
          "base_uri": "https://localhost:8080/"
        },
        "id": "DHXwEK3jJ7rF",
        "outputId": "e8db370b-ee1f-4086-c1b0-407abdf1fe62"
      },
      "outputs": [
        {
          "output_type": "stream",
          "name": "stderr",
          "text": [
            "/usr/local/lib/python3.7/dist-packages/sklearn/preprocessing/_encoders.py:174: UserWarning: Found unknown categories in columns [0] during transform. These unknown categories will be encoded as all zeros\n",
            "  UserWarning,\n"
          ]
        },
        {
          "output_type": "execute_result",
          "data": {
            "text/plain": [
              "array(['language_de', 'language_en', 'language_es', 'language_fr',\n",
              "       'language_ga', 'language_gl', 'language_is', 'language_it',\n",
              "       'language_pt', 'language_rw'], dtype=object)"
            ]
          },
          "metadata": {},
          "execution_count": 12
        }
      ],
      "source": [
        "lenguaje_valid = encoder.transform(X_valid[['language']]).todense().astype(int)\n",
        "encoder.get_feature_names_out()"
      ]
    },
    {
      "cell_type": "code",
      "execution_count": null,
      "metadata": {
        "colab": {
          "base_uri": "https://localhost:8080/"
        },
        "id": "FOxaEeE7UFWG",
        "outputId": "b3c19936-c873-4e9d-c088-fd87aee05f7c"
      },
      "outputs": [
        {
          "output_type": "execute_result",
          "data": {
            "text/plain": [
              "array(['language_de', 'language_en', 'language_es', 'language_fr',\n",
              "       'language_ga', 'language_gl', 'language_is', 'language_it',\n",
              "       'language_pt', 'language_rw'], dtype=object)"
            ]
          },
          "metadata": {},
          "execution_count": 13
        }
      ],
      "source": [
        "lenguaje_test = encoder.transform(X_test[['language']]).todense().astype(int)\n",
        "encoder.get_feature_names_out()"
      ]
    },
    {
      "cell_type": "code",
      "execution_count": null,
      "metadata": {
        "id": "U61L9K59Oq7p"
      },
      "outputs": [],
      "source": [
        "X_train = X_train.reset_index().drop(['index', 'language'], axis=1).join(pd.DataFrame(lenguaje_train, columns = ('language_de', 'language_en', 'language_es', 'language_fr',\n",
        "       'language_ga', 'language_gl', 'language_is', 'language_it',\n",
        "       'language_pt', 'language_rw')))\n",
        "X_valid = X_valid.reset_index().drop(['index', 'language'], axis=1).join(pd.DataFrame(lenguaje_valid, columns = ('language_de', 'language_en', 'language_es', 'language_fr',\n",
        "       'language_ga', 'language_gl', 'language_is', 'language_it',\n",
        "       'language_pt', 'language_rw')))\n",
        "X_test = X_test.reset_index().drop(['index', 'language'], axis=1).join(pd.DataFrame(lenguaje_test, columns = ('language_de', 'language_en', 'language_es', 'language_fr',\n",
        "       'language_ga', 'language_gl', 'language_is', 'language_it',\n",
        "       'language_pt', 'language_rw')))"
      ]
    },
    {
      "cell_type": "markdown",
      "source": [
        "**Filleo \"s-label\"**"
      ],
      "metadata": {
        "id": "MwFGgvXhXrao"
      }
    },
    {
      "cell_type": "code",
      "execution_count": null,
      "metadata": {
        "id": "sChT50odKzeL"
      },
      "outputs": [],
      "source": [
        "X_valid['s-label'] = X_valid['s-label'].fillna(X_train['s-label'].median())\n",
        "X_train['s-label'] = X_train['s-label'].fillna(X_train['s-label'].median())\n",
        "X_test['s-label'] = X_test['s-label'].fillna(X_train['s-label'].median())"
      ]
    },
    {
      "cell_type": "markdown",
      "source": [
        "**Encodeo con OHE \"Mode\"**"
      ],
      "metadata": {
        "id": "6UBxSOa6Xwsr"
      }
    },
    {
      "cell_type": "code",
      "execution_count": null,
      "metadata": {
        "colab": {
          "base_uri": "https://localhost:8080/"
        },
        "id": "PNNAom58m8v5",
        "outputId": "9ce274c4-9340-4d15-83ff-885e42c021c8"
      },
      "outputs": [
        {
          "output_type": "execute_result",
          "data": {
            "text/plain": [
              "array(['mode_Minor'], dtype=object)"
            ]
          },
          "metadata": {},
          "execution_count": 16
        }
      ],
      "source": [
        "mode_train = encoder.fit_transform(X_train[['mode']]).todense().astype(int)\n",
        "encoder.get_feature_names_out()"
      ]
    },
    {
      "cell_type": "code",
      "execution_count": null,
      "metadata": {
        "colab": {
          "base_uri": "https://localhost:8080/"
        },
        "id": "YdPxTS8WnFsK",
        "outputId": "c468adab-1180-4970-dfaf-04449ff571be"
      },
      "outputs": [
        {
          "output_type": "execute_result",
          "data": {
            "text/plain": [
              "array(['mode_Minor'], dtype=object)"
            ]
          },
          "metadata": {},
          "execution_count": 17
        }
      ],
      "source": [
        "mode_valid = encoder.transform(X_valid[['mode']]).todense().astype(int)\n",
        "encoder.get_feature_names_out()"
      ]
    },
    {
      "cell_type": "code",
      "execution_count": null,
      "metadata": {
        "colab": {
          "base_uri": "https://localhost:8080/"
        },
        "id": "m7YHLdpqUptv",
        "outputId": "3356a24d-2058-4925-9a91-b2cc2e2b7e8c"
      },
      "outputs": [
        {
          "output_type": "execute_result",
          "data": {
            "text/plain": [
              "array(['mode_Minor'], dtype=object)"
            ]
          },
          "metadata": {},
          "execution_count": 18
        }
      ],
      "source": [
        "mode_test = encoder.transform(X_test[['mode']]).todense().astype(int)\n",
        "encoder.get_feature_names_out()"
      ]
    },
    {
      "cell_type": "code",
      "execution_count": null,
      "metadata": {
        "id": "6cPtn1xXLWol"
      },
      "outputs": [],
      "source": [
        "X_train = X_train.reset_index().drop(['index', 'mode'], axis=1).join(pd.DataFrame(mode_train, columns = ('mode_Minor', )))\n",
        "X_valid = X_valid.reset_index().drop(['index', 'mode'], axis=1).join(pd.DataFrame(mode_valid, columns = ('mode_Minor', )))\n",
        "X_test = X_test.reset_index().drop(['index', 'mode'], axis=1).join(pd.DataFrame(mode_test, columns = ('mode_Minor', )))"
      ]
    },
    {
      "cell_type": "markdown",
      "source": [
        "**Encodeo con OHE \"time signature\"**"
      ],
      "metadata": {
        "id": "_5a4Kgw9Xj9c"
      }
    },
    {
      "cell_type": "code",
      "execution_count": null,
      "metadata": {
        "colab": {
          "base_uri": "https://localhost:8080/"
        },
        "id": "NtWx1EanLg-5",
        "outputId": "dddaf93b-8908-4113-fb33-76027143b954"
      },
      "outputs": [
        {
          "output_type": "execute_result",
          "data": {
            "text/plain": [
              "array(['time_signature_3/4', 'time_signature_4/4', 'time_signature_5/4'],\n",
              "      dtype=object)"
            ]
          },
          "metadata": {},
          "execution_count": 20
        }
      ],
      "source": [
        "time_train = encoder.fit_transform(X_train[['time_signature']]).todense().astype(int)\n",
        "encoder.get_feature_names_out()"
      ]
    },
    {
      "cell_type": "code",
      "execution_count": null,
      "metadata": {
        "colab": {
          "base_uri": "https://localhost:8080/"
        },
        "id": "3yKYBkmILpr4",
        "outputId": "0b9aaa02-aca2-4cb3-cd29-45e33cfdf347"
      },
      "outputs": [
        {
          "output_type": "execute_result",
          "data": {
            "text/plain": [
              "array(['time_signature_3/4', 'time_signature_4/4', 'time_signature_5/4'],\n",
              "      dtype=object)"
            ]
          },
          "metadata": {},
          "execution_count": 21
        }
      ],
      "source": [
        "time_valid = encoder.transform(X_valid[['time_signature']]).todense().astype(int)\n",
        "encoder.get_feature_names_out()"
      ]
    },
    {
      "cell_type": "code",
      "execution_count": null,
      "metadata": {
        "colab": {
          "base_uri": "https://localhost:8080/"
        },
        "id": "uqUkmYd0U4GH",
        "outputId": "192ca61c-78af-4df8-a9b0-9957e74deb53"
      },
      "outputs": [
        {
          "output_type": "execute_result",
          "data": {
            "text/plain": [
              "array(['time_signature_3/4', 'time_signature_4/4', 'time_signature_5/4'],\n",
              "      dtype=object)"
            ]
          },
          "metadata": {},
          "execution_count": 22
        }
      ],
      "source": [
        "time_test = encoder.transform(X_test[['time_signature']]).todense().astype(int)\n",
        "encoder.get_feature_names_out()"
      ]
    },
    {
      "cell_type": "code",
      "execution_count": null,
      "metadata": {
        "id": "GXkfmvwuPqUM"
      },
      "outputs": [],
      "source": [
        "X_train = X_train.reset_index().drop(['index', 'time_signature'], axis=1).join(pd.DataFrame(time_train, columns = ('time_signature_3/4', 'time_signature_4/4', 'time_signature_5/4')))\n",
        "X_valid = X_valid.reset_index().drop(['index', 'time_signature'], axis=1).join(pd.DataFrame(time_valid, columns = ('time_signature_3/4', 'time_signature_4/4', 'time_signature_5/4')))\n",
        "X_test = X_test.reset_index().drop(['index', 'time_signature'], axis=1).join(pd.DataFrame(time_test, columns = ('time_signature_3/4', 'time_signature_4/4', 'time_signature_5/4')))"
      ]
    },
    {
      "cell_type": "markdown",
      "source": [
        "**Encodeo con OHE \"key\"**"
      ],
      "metadata": {
        "id": "k-7zq13wXB5D"
      }
    },
    {
      "cell_type": "code",
      "execution_count": null,
      "metadata": {
        "colab": {
          "base_uri": "https://localhost:8080/"
        },
        "id": "8khhsl9XP_oc",
        "outputId": "49c6c883-dcce-4ca9-dad9-1ce80fbc22cc"
      },
      "outputs": [
        {
          "output_type": "execute_result",
          "data": {
            "text/plain": [
              "array(['key_A#', 'key_B', 'key_C', 'key_C#', 'key_D', 'key_D#', 'key_E',\n",
              "       'key_F', 'key_F#', 'key_G', 'key_G#'], dtype=object)"
            ]
          },
          "metadata": {},
          "execution_count": 24
        }
      ],
      "source": [
        "key_train =  encoder.fit_transform(X_train[['key']]).todense().astype(int)\n",
        "encoder.get_feature_names_out()"
      ]
    },
    {
      "cell_type": "code",
      "execution_count": null,
      "metadata": {
        "colab": {
          "base_uri": "https://localhost:8080/"
        },
        "id": "t_dNeyjgQCWY",
        "outputId": "345d2efa-5c1e-4cf8-8dc1-e5b1eff297a5"
      },
      "outputs": [
        {
          "output_type": "execute_result",
          "data": {
            "text/plain": [
              "array(['key_A#', 'key_B', 'key_C', 'key_C#', 'key_D', 'key_D#', 'key_E',\n",
              "       'key_F', 'key_F#', 'key_G', 'key_G#'], dtype=object)"
            ]
          },
          "metadata": {},
          "execution_count": 25
        }
      ],
      "source": [
        "key_valid =  encoder.transform(X_valid[['key']]).todense().astype(int)\n",
        "encoder.get_feature_names_out()"
      ]
    },
    {
      "cell_type": "code",
      "execution_count": null,
      "metadata": {
        "colab": {
          "base_uri": "https://localhost:8080/"
        },
        "id": "BhetpIc5VIGx",
        "outputId": "983dba83-c715-4ace-a347-2bcc4a16a841"
      },
      "outputs": [
        {
          "output_type": "execute_result",
          "data": {
            "text/plain": [
              "array(['key_A#', 'key_B', 'key_C', 'key_C#', 'key_D', 'key_D#', 'key_E',\n",
              "       'key_F', 'key_F#', 'key_G', 'key_G#'], dtype=object)"
            ]
          },
          "metadata": {},
          "execution_count": 26
        }
      ],
      "source": [
        "key_test =  encoder.transform(X_test[['key']]).todense().astype(int)\n",
        "encoder.get_feature_names_out()"
      ]
    },
    {
      "cell_type": "code",
      "execution_count": null,
      "metadata": {
        "id": "b37fNaEWQOfu"
      },
      "outputs": [],
      "source": [
        "X_train = X_train.reset_index().drop(['index', 'key'], axis=1).join(pd.DataFrame(key_train, columns = ('key_A#', 'key_B', 'key_C', 'key_C#', 'key_D', 'key_D#', 'key_E',\n",
        "       'key_F', 'key_F#', 'key_G', 'key_G#')))\n",
        "X_valid = X_valid.reset_index().drop(['index', 'key'], axis=1).join(pd.DataFrame(key_valid, columns = ('key_A#', 'key_B', 'key_C', 'key_C#', 'key_D', 'key_D#', 'key_E',\n",
        "       'key_F', 'key_F#', 'key_G', 'key_G#')))\n",
        "X_test = X_test.reset_index().drop(['index', 'key'], axis=1).join(pd.DataFrame(key_test, columns = ('key_A#', 'key_B', 'key_C', 'key_C#', 'key_D', 'key_D#', 'key_E',\n",
        "       'key_F', 'key_F#', 'key_G', 'key_G#')))"
      ]
    },
    {
      "cell_type": "markdown",
      "source": [
        "**Filleo NaNs, vectorizo y joineo \"lyric\"**"
      ],
      "metadata": {
        "id": "8bO2mAX9HlSJ"
      }
    },
    {
      "cell_type": "code",
      "source": [
        "X_train[\"lyric\"] = X_train[\"lyric\"].fillna(\"\")\n",
        "X_valid[\"lyric\"] = X_valid[\"lyric\"].fillna(\"\")\n",
        "X_test[\"lyric\"] = X_test[\"lyric\"].fillna(\"\")"
      ],
      "metadata": {
        "id": "Zt4XRYIiW7XT"
      },
      "execution_count": null,
      "outputs": []
    },
    {
      "cell_type": "code",
      "execution_count": null,
      "metadata": {
        "id": "3rYmYBMXc4c4"
      },
      "outputs": [],
      "source": [
        "countIDF = TfidfVectorizer(lowercase=True, stop_words='english', max_features=50)\n",
        "matrizVectoresIDF = countIDF.fit_transform(X_train[\"lyric\"]).todense().astype(int)"
      ]
    },
    {
      "cell_type": "code",
      "execution_count": null,
      "metadata": {
        "id": "4RRxQ9zQVaHV"
      },
      "outputs": [],
      "source": [
        "matrizVectoresIDF_valid = countIDF.transform(X_valid[\"lyric\"]).todense().astype(int)\n",
        "matrizVectoresIDF_test = countIDF.transform(X_test[\"lyric\"]).todense().astype(int)\n"
      ]
    },
    {
      "cell_type": "code",
      "execution_count": null,
      "metadata": {
        "id": "gImIEfY3eGXq"
      },
      "outputs": [],
      "source": [
        "X_train = X_train.reset_index().drop(['index', 'lyric'], axis=1).join(pd.DataFrame(matrizVectoresIDF))\n",
        "X_valid = X_valid.reset_index().drop(['index', 'lyric'], axis=1).join(pd.DataFrame(matrizVectoresIDF_valid))\n",
        "X_test = X_test.reset_index().drop(['index', 'lyric'], axis=1).join(pd.DataFrame(matrizVectoresIDF_test))"
      ]
    },
    {
      "cell_type": "markdown",
      "source": [
        "**Normalizo los** **valores**"
      ],
      "metadata": {
        "id": "ffFAvX1dHQgC"
      }
    },
    {
      "cell_type": "code",
      "source": [
        "escalador = MinMaxScaler()\n",
        "\n",
        "X_train_escalado = escalador.fit_transform(X_train)\n",
        "X_train = pd.DataFrame(X_train_escalado, columns = X_train.columns)\n",
        "\n",
        "X_valid_escalado = escalador.transform(X_valid)\n",
        "X_valid = pd.DataFrame(X_valid_escalado, columns = X_valid.columns)\n",
        "\n",
        "X_test_escalado = escalador.transform(X_test)\n",
        "X_test = pd.DataFrame(X_test_escalado, columns = X_test.columns)"
      ],
      "metadata": {
        "colab": {
          "base_uri": "https://localhost:8080/"
        },
        "id": "_DmmupW9HP7V",
        "outputId": "4fd309e2-2f7d-461b-afbf-b88dbf64c3d9"
      },
      "execution_count": null,
      "outputs": [
        {
          "output_type": "stream",
          "name": "stderr",
          "text": [
            "/usr/local/lib/python3.7/dist-packages/sklearn/utils/validation.py:1692: FutureWarning: Feature names only support names that are all strings. Got feature names with dtypes: ['int', 'str']. An error will be raised in 1.2.\n",
            "  FutureWarning,\n",
            "/usr/local/lib/python3.7/dist-packages/sklearn/utils/validation.py:1692: FutureWarning: Feature names only support names that are all strings. Got feature names with dtypes: ['int', 'str']. An error will be raised in 1.2.\n",
            "  FutureWarning,\n",
            "/usr/local/lib/python3.7/dist-packages/sklearn/utils/validation.py:1692: FutureWarning: Feature names only support names that are all strings. Got feature names with dtypes: ['int', 'str']. An error will be raised in 1.2.\n",
            "  FutureWarning,\n",
            "/usr/local/lib/python3.7/dist-packages/sklearn/utils/validation.py:1692: FutureWarning: Feature names only support names that are all strings. Got feature names with dtypes: ['int', 'str']. An error will be raised in 1.2.\n",
            "  FutureWarning,\n"
          ]
        }
      ]
    },
    {
      "cell_type": "markdown",
      "metadata": {
        "id": "kdNk-4J0in3j"
      },
      "source": [
        "# Busco hiper parametros y hago modelo de regresion"
      ]
    },
    {
      "cell_type": "code",
      "execution_count": null,
      "metadata": {
        "id": "EadQBVvqrgrk"
      },
      "outputs": [],
      "source": [
        "model = LogisticRegression()\n",
        "cv = RepeatedStratifiedKFold(n_splits=3, n_repeats=3, random_state=26)\n",
        "\n",
        "espacio_busqueda = dict()\n",
        "espacio_busqueda['solver'] = ['newton-cg', \"sag\",'saga']\n",
        "espacio_busqueda['penalty'] = ['l2', 'l1']\n",
        "espacio_busqueda['C'] = [10, 1, 50, 25]\n",
        "\n",
        "busqueda_parametros = RandomizedSearchCV(model, espacio_busqueda, n_iter=50, scoring='accuracy', n_jobs=1, cv=cv, verbose=10, random_state=1)\n",
        "resultados = busqueda_parametros.fit(X_train, y_train)"
      ]
    },
    {
      "cell_type": "code",
      "source": [
        "resultados.best_params_"
      ],
      "metadata": {
        "colab": {
          "base_uri": "https://localhost:8080/"
        },
        "id": "n_63uIsfcWfX",
        "outputId": "18d06a55-686d-4deb-8f74-c4f2956db5a1"
      },
      "execution_count": null,
      "outputs": [
        {
          "output_type": "execute_result",
          "data": {
            "text/plain": [
              "{'solver': 'saga', 'penalty': 'l1', 'C': 10}"
            ]
          },
          "metadata": {},
          "execution_count": 74
        }
      ]
    },
    {
      "cell_type": "code",
      "source": [
        "resultados.best_estimator_"
      ],
      "metadata": {
        "colab": {
          "base_uri": "https://localhost:8080/"
        },
        "id": "U5m45_Q4cXqg",
        "outputId": "e8b1d545-7c38-4cc9-b610-21b6a30f0643"
      },
      "execution_count": null,
      "outputs": [
        {
          "output_type": "execute_result",
          "data": {
            "text/plain": [
              "LogisticRegression(C=10, penalty='l1', solver='saga')"
            ]
          },
          "metadata": {},
          "execution_count": 75
        }
      ]
    },
    {
      "cell_type": "code",
      "source": [
        "resultados.best_score_"
      ],
      "metadata": {
        "colab": {
          "base_uri": "https://localhost:8080/"
        },
        "id": "iOJzk5zZcact",
        "outputId": "eeb13e6e-595d-4eae-83bd-bbfd8d549afd"
      },
      "execution_count": null,
      "outputs": [
        {
          "output_type": "execute_result",
          "data": {
            "text/plain": [
              "0.3443684778697373"
            ]
          },
          "metadata": {},
          "execution_count": 77
        }
      ]
    },
    {
      "cell_type": "code",
      "execution_count": null,
      "metadata": {
        "colab": {
          "base_uri": "https://localhost:8080/"
        },
        "id": "3WLi2W0tsERl",
        "outputId": "a8627197-0624-454f-fcdd-313177aa9506"
      },
      "outputs": [
        {
          "output_type": "stream",
          "name": "stderr",
          "text": [
            "/usr/local/lib/python3.7/dist-packages/sklearn/utils/validation.py:1692: FutureWarning: Feature names only support names that are all strings. Got feature names with dtypes: ['int', 'str']. An error will be raised in 1.2.\n",
            "  FutureWarning,\n",
            "/usr/local/lib/python3.7/dist-packages/sklearn/linear_model/_sag.py:354: ConvergenceWarning: The max_iter was reached which means the coef_ did not converge\n",
            "  ConvergenceWarning,\n"
          ]
        }
      ],
      "source": [
        "# Uso los hiperparametros conseguidos por randomsearch para el modelo de regresion logistica \n",
        "\n",
        "logreg = LogisticRegression(C=10, solver='saga', penalty='l1', random_state=26)\n",
        "\n",
        "modelo = logreg.fit(X_train, y_train)"
      ]
    },
    {
      "cell_type": "markdown",
      "metadata": {
        "id": "O1IJIiPQsi1A"
      },
      "source": [
        "# ¿Cuál es el mejor score de validación obtenido? "
      ]
    },
    {
      "cell_type": "code",
      "execution_count": null,
      "metadata": {
        "colab": {
          "base_uri": "https://localhost:8080/"
        },
        "id": "n5xaEyqsbMc_",
        "outputId": "0e57d1cd-5d74-4f94-e89b-46957edc4118"
      },
      "outputs": [
        {
          "output_type": "stream",
          "name": "stdout",
          "text": [
            "El mejor score de validación obtenido es 0.5037664783427496\n"
          ]
        },
        {
          "output_type": "stream",
          "name": "stderr",
          "text": [
            "/usr/local/lib/python3.7/dist-packages/sklearn/utils/validation.py:1692: FutureWarning: Feature names only support names that are all strings. Got feature names with dtypes: ['int', 'str']. An error will be raised in 1.2.\n",
            "  FutureWarning,\n"
          ]
        }
      ],
      "source": [
        "print(f'El mejor score de validación obtenido es {top_k_accuracy_score(y_valid, logreg.predict_proba(X_valid), k=2, labels=modelo.classes_)}')"
      ]
    },
    {
      "cell_type": "markdown",
      "metadata": {
        "id": "jNVekFmnsqHN"
      },
      "source": [
        "# Al predecir con este modelo para test, ¿Cúal es el score obtenido?"
      ]
    },
    {
      "cell_type": "code",
      "execution_count": null,
      "metadata": {
        "colab": {
          "base_uri": "https://localhost:8080/"
        },
        "id": "RB_HWfc6wSUQ",
        "outputId": "e40adc72-8dcb-4a77-fd86-881b65359650"
      },
      "outputs": [
        {
          "output_type": "stream",
          "name": "stdout",
          "text": [
            "Al predecir con este modelo para test, el resultado obtenido es 0.5050778605280974\n"
          ]
        },
        {
          "output_type": "stream",
          "name": "stderr",
          "text": [
            "/usr/local/lib/python3.7/dist-packages/sklearn/utils/validation.py:1692: FutureWarning: Feature names only support names that are all strings. Got feature names with dtypes: ['int', 'str']. An error will be raised in 1.2.\n",
            "  FutureWarning,\n"
          ]
        }
      ],
      "source": [
        "print(f'Al predecir con este modelo para test, el resultado obtenido es {top_k_accuracy_score(y_test, logreg.predict_proba(X_test), k=2, labels=modelo.classes_)}')"
      ]
    },
    {
      "cell_type": "code",
      "source": [
        "predicciones_parte2 = pd.DataFrame(logreg.predict_proba(X_test))"
      ],
      "metadata": {
        "colab": {
          "base_uri": "https://localhost:8080/"
        },
        "id": "Pe5bKxjaT8sC",
        "outputId": "a4f8c1cc-7c59-4c6e-c3bb-a413c80f42fa"
      },
      "execution_count": null,
      "outputs": [
        {
          "output_type": "stream",
          "name": "stderr",
          "text": [
            "/usr/local/lib/python3.7/dist-packages/sklearn/utils/validation.py:1692: FutureWarning: Feature names only support names that are all strings. Got feature names with dtypes: ['int', 'str']. An error will be raised in 1.2.\n",
            "  FutureWarning,\n"
          ]
        }
      ]
    },
    {
      "cell_type": "code",
      "source": [
        "# Guardo csv con predicciones \n",
        "\n",
        "predicciones_parte2.to_csv('PrediccionesParteII')"
      ],
      "metadata": {
        "id": "avRbq8s4UDbV"
      },
      "execution_count": null,
      "outputs": []
    },
    {
      "cell_type": "markdown",
      "metadata": {
        "id": "znRk9qx--O2h"
      },
      "source": [
        "# ¿Qué features son los más importantes para predecir con el mejor modelo? Graficar."
      ]
    },
    {
      "cell_type": "code",
      "source": [
        "df = pd.DataFrame(modelo.coef_[0], index=X_train.columns).transpose()"
      ],
      "metadata": {
        "id": "KLsUAzYcH7FX"
      },
      "execution_count": null,
      "outputs": []
    },
    {
      "cell_type": "code",
      "source": [
        "df"
      ],
      "metadata": {
        "colab": {
          "base_uri": "https://localhost:8080/",
          "height": 110
        },
        "id": "o0CIzQPBH7_h",
        "outputId": "f0d3bf1d-1863-482d-aaee-3a0fc38751e7"
      },
      "execution_count": null,
      "outputs": [
        {
          "output_type": "execute_result",
          "data": {
            "text/plain": [
              "   popularity   a_songs  a_popularity   s-label  acousticness  danceability  \\\n",
              "0    4.826686 -0.410964     16.095307 -0.360815     -1.913362     -1.522374   \n",
              "\n",
              "   duration_ms    energy  instrumentalness  liveness  ...   40        41  \\\n",
              "0     0.442169  2.759261          1.691719 -0.411249  ...  0.0  1.369942   \n",
              "\n",
              "         42   43   44   45   46   47   48   49  \n",
              "0  2.400163  0.0  0.0  0.0  0.0  0.0  0.0  0.0  \n",
              "\n",
              "[1 rows x 89 columns]"
            ],
            "text/html": [
              "\n",
              "  <div id=\"df-499e1a0d-8173-4917-8571-d9adf388c05a\">\n",
              "    <div class=\"colab-df-container\">\n",
              "      <div>\n",
              "<style scoped>\n",
              "    .dataframe tbody tr th:only-of-type {\n",
              "        vertical-align: middle;\n",
              "    }\n",
              "\n",
              "    .dataframe tbody tr th {\n",
              "        vertical-align: top;\n",
              "    }\n",
              "\n",
              "    .dataframe thead th {\n",
              "        text-align: right;\n",
              "    }\n",
              "</style>\n",
              "<table border=\"1\" class=\"dataframe\">\n",
              "  <thead>\n",
              "    <tr style=\"text-align: right;\">\n",
              "      <th></th>\n",
              "      <th>popularity</th>\n",
              "      <th>a_songs</th>\n",
              "      <th>a_popularity</th>\n",
              "      <th>s-label</th>\n",
              "      <th>acousticness</th>\n",
              "      <th>danceability</th>\n",
              "      <th>duration_ms</th>\n",
              "      <th>energy</th>\n",
              "      <th>instrumentalness</th>\n",
              "      <th>liveness</th>\n",
              "      <th>...</th>\n",
              "      <th>40</th>\n",
              "      <th>41</th>\n",
              "      <th>42</th>\n",
              "      <th>43</th>\n",
              "      <th>44</th>\n",
              "      <th>45</th>\n",
              "      <th>46</th>\n",
              "      <th>47</th>\n",
              "      <th>48</th>\n",
              "      <th>49</th>\n",
              "    </tr>\n",
              "  </thead>\n",
              "  <tbody>\n",
              "    <tr>\n",
              "      <th>0</th>\n",
              "      <td>4.826686</td>\n",
              "      <td>-0.410964</td>\n",
              "      <td>16.095307</td>\n",
              "      <td>-0.360815</td>\n",
              "      <td>-1.913362</td>\n",
              "      <td>-1.522374</td>\n",
              "      <td>0.442169</td>\n",
              "      <td>2.759261</td>\n",
              "      <td>1.691719</td>\n",
              "      <td>-0.411249</td>\n",
              "      <td>...</td>\n",
              "      <td>0.0</td>\n",
              "      <td>1.369942</td>\n",
              "      <td>2.400163</td>\n",
              "      <td>0.0</td>\n",
              "      <td>0.0</td>\n",
              "      <td>0.0</td>\n",
              "      <td>0.0</td>\n",
              "      <td>0.0</td>\n",
              "      <td>0.0</td>\n",
              "      <td>0.0</td>\n",
              "    </tr>\n",
              "  </tbody>\n",
              "</table>\n",
              "<p>1 rows × 89 columns</p>\n",
              "</div>\n",
              "      <button class=\"colab-df-convert\" onclick=\"convertToInteractive('df-499e1a0d-8173-4917-8571-d9adf388c05a')\"\n",
              "              title=\"Convert this dataframe to an interactive table.\"\n",
              "              style=\"display:none;\">\n",
              "        \n",
              "  <svg xmlns=\"http://www.w3.org/2000/svg\" height=\"24px\"viewBox=\"0 0 24 24\"\n",
              "       width=\"24px\">\n",
              "    <path d=\"M0 0h24v24H0V0z\" fill=\"none\"/>\n",
              "    <path d=\"M18.56 5.44l.94 2.06.94-2.06 2.06-.94-2.06-.94-.94-2.06-.94 2.06-2.06.94zm-11 1L8.5 8.5l.94-2.06 2.06-.94-2.06-.94L8.5 2.5l-.94 2.06-2.06.94zm10 10l.94 2.06.94-2.06 2.06-.94-2.06-.94-.94-2.06-.94 2.06-2.06.94z\"/><path d=\"M17.41 7.96l-1.37-1.37c-.4-.4-.92-.59-1.43-.59-.52 0-1.04.2-1.43.59L10.3 9.45l-7.72 7.72c-.78.78-.78 2.05 0 2.83L4 21.41c.39.39.9.59 1.41.59.51 0 1.02-.2 1.41-.59l7.78-7.78 2.81-2.81c.8-.78.8-2.07 0-2.86zM5.41 20L4 18.59l7.72-7.72 1.47 1.35L5.41 20z\"/>\n",
              "  </svg>\n",
              "      </button>\n",
              "      \n",
              "  <style>\n",
              "    .colab-df-container {\n",
              "      display:flex;\n",
              "      flex-wrap:wrap;\n",
              "      gap: 12px;\n",
              "    }\n",
              "\n",
              "    .colab-df-convert {\n",
              "      background-color: #E8F0FE;\n",
              "      border: none;\n",
              "      border-radius: 50%;\n",
              "      cursor: pointer;\n",
              "      display: none;\n",
              "      fill: #1967D2;\n",
              "      height: 32px;\n",
              "      padding: 0 0 0 0;\n",
              "      width: 32px;\n",
              "    }\n",
              "\n",
              "    .colab-df-convert:hover {\n",
              "      background-color: #E2EBFA;\n",
              "      box-shadow: 0px 1px 2px rgba(60, 64, 67, 0.3), 0px 1px 3px 1px rgba(60, 64, 67, 0.15);\n",
              "      fill: #174EA6;\n",
              "    }\n",
              "\n",
              "    [theme=dark] .colab-df-convert {\n",
              "      background-color: #3B4455;\n",
              "      fill: #D2E3FC;\n",
              "    }\n",
              "\n",
              "    [theme=dark] .colab-df-convert:hover {\n",
              "      background-color: #434B5C;\n",
              "      box-shadow: 0px 1px 3px 1px rgba(0, 0, 0, 0.15);\n",
              "      filter: drop-shadow(0px 1px 2px rgba(0, 0, 0, 0.3));\n",
              "      fill: #FFFFFF;\n",
              "    }\n",
              "  </style>\n",
              "\n",
              "      <script>\n",
              "        const buttonEl =\n",
              "          document.querySelector('#df-499e1a0d-8173-4917-8571-d9adf388c05a button.colab-df-convert');\n",
              "        buttonEl.style.display =\n",
              "          google.colab.kernel.accessAllowed ? 'block' : 'none';\n",
              "\n",
              "        async function convertToInteractive(key) {\n",
              "          const element = document.querySelector('#df-499e1a0d-8173-4917-8571-d9adf388c05a');\n",
              "          const dataTable =\n",
              "            await google.colab.kernel.invokeFunction('convertToInteractive',\n",
              "                                                     [key], {});\n",
              "          if (!dataTable) return;\n",
              "\n",
              "          const docLinkHtml = 'Like what you see? Visit the ' +\n",
              "            '<a target=\"_blank\" href=https://colab.research.google.com/notebooks/data_table.ipynb>data table notebook</a>'\n",
              "            + ' to learn more about interactive tables.';\n",
              "          element.innerHTML = '';\n",
              "          dataTable['output_type'] = 'display_data';\n",
              "          await google.colab.output.renderOutput(dataTable, element);\n",
              "          const docLink = document.createElement('div');\n",
              "          docLink.innerHTML = docLinkHtml;\n",
              "          element.appendChild(docLink);\n",
              "        }\n",
              "      </script>\n",
              "    </div>\n",
              "  </div>\n",
              "  "
            ]
          },
          "metadata": {},
          "execution_count": 83
        }
      ]
    },
    {
      "cell_type": "code",
      "source": [
        "# Creo lista de columnas para agrupar y sumar despues\n",
        "\n",
        "language = ['language_de','language_en','language_es', 'language_fr', 'language_ga','language_gl','language_is','language_it','language_pt','language_rw']\n",
        "time_signature = ['time_signature_3/4', 'time_signature_4/4','time_signature_5/4']\n",
        "key = ['key_A#','key_B','key_C','key_C#','key_D','key_D#','key_E','key_F','key_F#','key_G','key_G#']\n",
        "lyric = [0,1,2,3,4,5,6,7,8,9,10,11,12,13,14,15,16,17,18,19,20,21,22,23,24,25,26,27,28,29,30,31,32,33,34,35,36,37,38,39,40,41,42,43,44,45,46,47,48,49]\n",
        "\n",
        "# Sumo las columnas que se habian desagregado cuando les hice OHE \n",
        "# y las agrupo segun feature\n",
        "\n",
        "df['language'] = df[language].sum(axis=1)\n",
        "df['time_signature'] = df[time_signature].sum(axis=1)\n",
        "df['key'] = df[key].sum(axis=1)\n",
        "df['lyric'] = df[lyric].sum(axis=1)"
      ],
      "metadata": {
        "id": "opo2gfEUH8zh"
      },
      "execution_count": null,
      "outputs": []
    },
    {
      "cell_type": "code",
      "source": [
        "df = df[['popularity','a_songs','a_popularity','s-label','acousticness','danceability','duration_ms','energy','instrumentalness','liveness','loudness','speechiness','tempo','valence','language','time_signature','key','lyric']]"
      ],
      "metadata": {
        "id": "CPGHOAz2IuXz"
      },
      "execution_count": null,
      "outputs": []
    },
    {
      "cell_type": "code",
      "source": [
        "df = df.transpose().reset_index()"
      ],
      "metadata": {
        "id": "yW-JhZwoI_kZ"
      },
      "execution_count": null,
      "outputs": []
    },
    {
      "cell_type": "code",
      "source": [
        "df.rename(columns = {'index':'feature', 0:'suma'}, inplace = True)"
      ],
      "metadata": {
        "id": "dBK5FRyUKl4W"
      },
      "execution_count": null,
      "outputs": []
    },
    {
      "cell_type": "code",
      "source": [
        "df[\"importancia\"] = pow(math.e, df.suma)\n",
        "df = df.sort_values(by = [\"importancia\"], ascending=False)\n",
        " \n",
        "top_10_features = df[:10]"
      ],
      "metadata": {
        "id": "26UJCFUqKuVM"
      },
      "execution_count": null,
      "outputs": []
    },
    {
      "cell_type": "code",
      "source": [
        "top_10_features"
      ],
      "metadata": {
        "colab": {
          "base_uri": "https://localhost:8080/",
          "height": 363
        },
        "id": "i_ce8rGxeMYy",
        "outputId": "0ac03536-8452-4f8e-abe8-2d67457ce565"
      },
      "execution_count": null,
      "outputs": [
        {
          "output_type": "execute_result",
          "data": {
            "text/plain": [
              "             feature       suma   importancia\n",
              "2       a_popularity  16.095307  9.774690e+06\n",
              "17             lyric  15.120223  3.686628e+06\n",
              "0         popularity   4.826686  1.247967e+02\n",
              "14          language   4.001589  5.468495e+01\n",
              "7             energy   2.759261  1.578818e+01\n",
              "8   instrumentalness   1.691719  5.428805e+00\n",
              "11       speechiness   0.548998  1.731518e+00\n",
              "6        duration_ms   0.442169  1.556079e+00\n",
              "16               key   0.433293  1.542328e+00\n",
              "15    time_signature   0.143055  1.153793e+00"
            ],
            "text/html": [
              "\n",
              "  <div id=\"df-5b1aa109-f5da-4fb9-a1f9-7b66ae5ea9ad\">\n",
              "    <div class=\"colab-df-container\">\n",
              "      <div>\n",
              "<style scoped>\n",
              "    .dataframe tbody tr th:only-of-type {\n",
              "        vertical-align: middle;\n",
              "    }\n",
              "\n",
              "    .dataframe tbody tr th {\n",
              "        vertical-align: top;\n",
              "    }\n",
              "\n",
              "    .dataframe thead th {\n",
              "        text-align: right;\n",
              "    }\n",
              "</style>\n",
              "<table border=\"1\" class=\"dataframe\">\n",
              "  <thead>\n",
              "    <tr style=\"text-align: right;\">\n",
              "      <th></th>\n",
              "      <th>feature</th>\n",
              "      <th>suma</th>\n",
              "      <th>importancia</th>\n",
              "    </tr>\n",
              "  </thead>\n",
              "  <tbody>\n",
              "    <tr>\n",
              "      <th>2</th>\n",
              "      <td>a_popularity</td>\n",
              "      <td>16.095307</td>\n",
              "      <td>9.774690e+06</td>\n",
              "    </tr>\n",
              "    <tr>\n",
              "      <th>17</th>\n",
              "      <td>lyric</td>\n",
              "      <td>15.120223</td>\n",
              "      <td>3.686628e+06</td>\n",
              "    </tr>\n",
              "    <tr>\n",
              "      <th>0</th>\n",
              "      <td>popularity</td>\n",
              "      <td>4.826686</td>\n",
              "      <td>1.247967e+02</td>\n",
              "    </tr>\n",
              "    <tr>\n",
              "      <th>14</th>\n",
              "      <td>language</td>\n",
              "      <td>4.001589</td>\n",
              "      <td>5.468495e+01</td>\n",
              "    </tr>\n",
              "    <tr>\n",
              "      <th>7</th>\n",
              "      <td>energy</td>\n",
              "      <td>2.759261</td>\n",
              "      <td>1.578818e+01</td>\n",
              "    </tr>\n",
              "    <tr>\n",
              "      <th>8</th>\n",
              "      <td>instrumentalness</td>\n",
              "      <td>1.691719</td>\n",
              "      <td>5.428805e+00</td>\n",
              "    </tr>\n",
              "    <tr>\n",
              "      <th>11</th>\n",
              "      <td>speechiness</td>\n",
              "      <td>0.548998</td>\n",
              "      <td>1.731518e+00</td>\n",
              "    </tr>\n",
              "    <tr>\n",
              "      <th>6</th>\n",
              "      <td>duration_ms</td>\n",
              "      <td>0.442169</td>\n",
              "      <td>1.556079e+00</td>\n",
              "    </tr>\n",
              "    <tr>\n",
              "      <th>16</th>\n",
              "      <td>key</td>\n",
              "      <td>0.433293</td>\n",
              "      <td>1.542328e+00</td>\n",
              "    </tr>\n",
              "    <tr>\n",
              "      <th>15</th>\n",
              "      <td>time_signature</td>\n",
              "      <td>0.143055</td>\n",
              "      <td>1.153793e+00</td>\n",
              "    </tr>\n",
              "  </tbody>\n",
              "</table>\n",
              "</div>\n",
              "      <button class=\"colab-df-convert\" onclick=\"convertToInteractive('df-5b1aa109-f5da-4fb9-a1f9-7b66ae5ea9ad')\"\n",
              "              title=\"Convert this dataframe to an interactive table.\"\n",
              "              style=\"display:none;\">\n",
              "        \n",
              "  <svg xmlns=\"http://www.w3.org/2000/svg\" height=\"24px\"viewBox=\"0 0 24 24\"\n",
              "       width=\"24px\">\n",
              "    <path d=\"M0 0h24v24H0V0z\" fill=\"none\"/>\n",
              "    <path d=\"M18.56 5.44l.94 2.06.94-2.06 2.06-.94-2.06-.94-.94-2.06-.94 2.06-2.06.94zm-11 1L8.5 8.5l.94-2.06 2.06-.94-2.06-.94L8.5 2.5l-.94 2.06-2.06.94zm10 10l.94 2.06.94-2.06 2.06-.94-2.06-.94-.94-2.06-.94 2.06-2.06.94z\"/><path d=\"M17.41 7.96l-1.37-1.37c-.4-.4-.92-.59-1.43-.59-.52 0-1.04.2-1.43.59L10.3 9.45l-7.72 7.72c-.78.78-.78 2.05 0 2.83L4 21.41c.39.39.9.59 1.41.59.51 0 1.02-.2 1.41-.59l7.78-7.78 2.81-2.81c.8-.78.8-2.07 0-2.86zM5.41 20L4 18.59l7.72-7.72 1.47 1.35L5.41 20z\"/>\n",
              "  </svg>\n",
              "      </button>\n",
              "      \n",
              "  <style>\n",
              "    .colab-df-container {\n",
              "      display:flex;\n",
              "      flex-wrap:wrap;\n",
              "      gap: 12px;\n",
              "    }\n",
              "\n",
              "    .colab-df-convert {\n",
              "      background-color: #E8F0FE;\n",
              "      border: none;\n",
              "      border-radius: 50%;\n",
              "      cursor: pointer;\n",
              "      display: none;\n",
              "      fill: #1967D2;\n",
              "      height: 32px;\n",
              "      padding: 0 0 0 0;\n",
              "      width: 32px;\n",
              "    }\n",
              "\n",
              "    .colab-df-convert:hover {\n",
              "      background-color: #E2EBFA;\n",
              "      box-shadow: 0px 1px 2px rgba(60, 64, 67, 0.3), 0px 1px 3px 1px rgba(60, 64, 67, 0.15);\n",
              "      fill: #174EA6;\n",
              "    }\n",
              "\n",
              "    [theme=dark] .colab-df-convert {\n",
              "      background-color: #3B4455;\n",
              "      fill: #D2E3FC;\n",
              "    }\n",
              "\n",
              "    [theme=dark] .colab-df-convert:hover {\n",
              "      background-color: #434B5C;\n",
              "      box-shadow: 0px 1px 3px 1px rgba(0, 0, 0, 0.15);\n",
              "      filter: drop-shadow(0px 1px 2px rgba(0, 0, 0, 0.3));\n",
              "      fill: #FFFFFF;\n",
              "    }\n",
              "  </style>\n",
              "\n",
              "      <script>\n",
              "        const buttonEl =\n",
              "          document.querySelector('#df-5b1aa109-f5da-4fb9-a1f9-7b66ae5ea9ad button.colab-df-convert');\n",
              "        buttonEl.style.display =\n",
              "          google.colab.kernel.accessAllowed ? 'block' : 'none';\n",
              "\n",
              "        async function convertToInteractive(key) {\n",
              "          const element = document.querySelector('#df-5b1aa109-f5da-4fb9-a1f9-7b66ae5ea9ad');\n",
              "          const dataTable =\n",
              "            await google.colab.kernel.invokeFunction('convertToInteractive',\n",
              "                                                     [key], {});\n",
              "          if (!dataTable) return;\n",
              "\n",
              "          const docLinkHtml = 'Like what you see? Visit the ' +\n",
              "            '<a target=\"_blank\" href=https://colab.research.google.com/notebooks/data_table.ipynb>data table notebook</a>'\n",
              "            + ' to learn more about interactive tables.';\n",
              "          element.innerHTML = '';\n",
              "          dataTable['output_type'] = 'display_data';\n",
              "          await google.colab.output.renderOutput(dataTable, element);\n",
              "          const docLink = document.createElement('div');\n",
              "          docLink.innerHTML = docLinkHtml;\n",
              "          element.appendChild(docLink);\n",
              "        }\n",
              "      </script>\n",
              "    </div>\n",
              "  </div>\n",
              "  "
            ]
          },
          "metadata": {},
          "execution_count": 92
        }
      ]
    },
    {
      "cell_type": "code",
      "source": [
        "ax = df.plot.barh(x='feature', y='importancia')\n",
        "plt.title(\"Top 10 features más importantes\\n\")\n",
        "plt.xlabel('Importancia\\n') \n",
        "plt.ylabel('Feature\\n')\n",
        "plt.show()"
      ],
      "metadata": {
        "colab": {
          "base_uri": "https://localhost:8080/",
          "height": 322
        },
        "id": "scpCs3dtKu_A",
        "outputId": "d54eb3e3-3d29-47f7-900d-506038211c5c"
      },
      "execution_count": null,
      "outputs": [
        {
          "output_type": "display_data",
          "data": {
            "text/plain": [
              "<Figure size 432x288 with 1 Axes>"
            ],
            "image/png": "[encoded data removed]"
          },
          "metadata": {
            "needs_background": "light"
          }
        }
      ]
    },
    {
      "cell_type": "markdown",
      "source": [
        "Este es un ejemplo de como quedaria si no lo elevo a la potencia de e."
      ],
      "metadata": {
        "id": "X8KXbAHMeTf_"
      }
    },
    {
      "cell_type": "code",
      "source": [
        "ax = top_10_features.plot.barh(x='feature', y='suma')\n",
        "plt.title(\"Top 10 features más importantes\\n\")\n",
        "plt.xlabel('Importancia\\n') \n",
        "plt.ylabel('Feature\\n')\n",
        "plt.show()"
      ],
      "metadata": {
        "colab": {
          "base_uri": "https://localhost:8080/",
          "height": 322
        },
        "id": "dBrycEIyK2Bj",
        "outputId": "5ee0c56b-e8f6-4981-ec26-b5bc82bbda20"
      },
      "execution_count": null,
      "outputs": [
        {
          "output_type": "display_data",
          "data": {
            "text/plain": [
              "<Figure size 432x288 with 1 Axes>"
            ],
            "image/png": "[encoded data removed]"
          },
          "metadata": {
            "needs_background": "light"
          }
        }
      ]
    }
  ],
  "metadata": {
    "colab": {
      "provenance": []
    },
    "kernelspec": {
      "display_name": "Python 3",
      "name": "python3"
    },
    "language_info": {
      "name": "python"
    }
  },
  "nbformat": 4,
  "nbformat_minor": 0
}