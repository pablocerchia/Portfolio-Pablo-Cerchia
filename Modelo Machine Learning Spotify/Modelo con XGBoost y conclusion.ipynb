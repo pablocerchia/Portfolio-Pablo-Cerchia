{
  "cells": [
    {
      "cell_type": "code",
      "execution_count": null,
      "metadata": {
        "id": "amLa6DpfM7Dw"
      },
      "outputs": [],
      "source": [
        "from sklearn.linear_model import LogisticRegression\n",
        "from sklearn.ensemble import RandomForestClassifier\n",
        "from sklearn.tree import DecisionTreeClassifier\n",
        "from xgboost import XGBClassifier\n",
        "\n",
        "from sklearn.preprocessing import MinMaxScaler\n",
        "from sklearn.preprocessing import OneHotEncoder\n",
        "from sklearn.metrics import classification_report\n",
        "from sklearn.metrics import make_scorer, accuracy_score, roc_auc_score \n",
        "from sklearn.model_selection import train_test_split\n",
        "from sklearn.linear_model import LogisticRegression\n",
        "from sklearn.model_selection import GroupShuffleSplit \n",
        "from sklearn.model_selection import RepeatedStratifiedKFold\n",
        "from sklearn.model_selection import RandomizedSearchCV\n",
        "from sklearn.feature_extraction.text import TfidfVectorizer\n",
        "from sklearn.metrics import top_k_accuracy_score"
      ]
    },
    {
      "cell_type": "code",
      "execution_count": null,
      "metadata": {
        "id": "OSj43vfLjMDg"
      },
      "outputs": [],
      "source": [
        "import pandas as pd\n",
        "import numpy as np\n",
        "import matplotlib.pyplot as plt\n",
        "import seaborn as sns\n",
        "import math"
      ]
    },
    {
      "cell_type": "code",
      "execution_count": null,
      "metadata": {
        "colab": {
          "base_uri": "https://localhost:8080/"
        },
        "id": "OIFwahpfj900",
        "outputId": "695a91d5-ae9e-4350-bf4b-3a138bbd8342"
      },
      "outputs": [
        {
          "output_type": "stream",
          "name": "stdout",
          "text": [
            "Mounted at /content/drive\n"
          ]
        }
      ],
      "source": [
        "from google.colab import drive\n",
        "drive.mount('/content/drive')"
      ]
    },
    {
      "cell_type": "markdown",
      "metadata": {
        "id": "OCAKsSi0tawG"
      },
      "source": [
        "# Abro datasets y hago split en base a artistas al azar. Genero sets de entrenamiento, validación y testeo."
      ]
    },
    {
      "cell_type": "code",
      "execution_count": null,
      "metadata": {
        "id": "1f5uINpekFq0"
      },
      "outputs": [],
      "source": [
        "df_train = pd.read_parquet('/content/drive/MyDrive/ODD tp 1 dataset/train.parquet')"
      ]
    },
    {
      "cell_type": "code",
      "execution_count": null,
      "metadata": {
        "id": "aSQ5D7xhS-FV"
      },
      "outputs": [],
      "source": [
        "df_test = pd.read_parquet('/content/drive/MyDrive/ODD tp 1 dataset/test.parquet')"
      ]
    },
    {
      "cell_type": "code",
      "execution_count": null,
      "metadata": {
        "id": "k3JU4-TqHqwM"
      },
      "outputs": [],
      "source": [
        "splitter = GroupShuffleSplit(test_size=.20, n_splits=2, random_state = 26)\n",
        "split = splitter.split(df_train, groups=df_train['artist'])\n",
        "train_inds, valid_inds = next(split)\n",
        "\n",
        "train = df_train.iloc[train_inds]\n",
        "valid = df_train.iloc[valid_inds]"
      ]
    },
    {
      "cell_type": "code",
      "execution_count": null,
      "metadata": {
        "id": "Qcu6nymKIcc_"
      },
      "outputs": [],
      "source": [
        "y_train = train.genre\n",
        "X_train = train.drop([\"track_name\", \"a_genres\", \"did\", \"genre\", 'artist'], axis = 1)"
      ]
    },
    {
      "cell_type": "code",
      "execution_count": null,
      "metadata": {
        "id": "aaL-BGUpIlvW"
      },
      "outputs": [],
      "source": [
        "y_valid = valid.genre\n",
        "X_valid = valid.drop([\"track_name\", \"a_genres\", \"did\", \"genre\", 'artist'], axis = 1)"
      ]
    },
    {
      "cell_type": "code",
      "execution_count": null,
      "metadata": {
        "id": "RVRiAPBwxcn3"
      },
      "outputs": [],
      "source": [
        "y_test = df_test.genre\n",
        "X_test = df_test.drop([\"track_name\", \"a_genres\", \"did\", \"genre\", 'artist'], axis = 1)"
      ]
    },
    {
      "cell_type": "markdown",
      "metadata": {
        "id": "vyw-sr2rxVLi"
      },
      "source": [
        "# Imputación de nulos + OHE"
      ]
    },
    {
      "cell_type": "code",
      "execution_count": null,
      "metadata": {
        "id": "_44ORYyA-oM0"
      },
      "outputs": [],
      "source": [
        "X_valid['language'] = X_valid['language'].fillna(X_train['language'].mode()[0])\n",
        "X_train['language'] = X_train['language'].fillna(X_train['language'].mode()[0])\n",
        "X_test['language'] = X_test['language'].fillna(X_train['language'].mode()[0])"
      ]
    },
    {
      "cell_type": "code",
      "execution_count": null,
      "metadata": {
        "colab": {
          "base_uri": "https://localhost:8080/"
        },
        "id": "o7tMwbl-Orgy",
        "outputId": "a3b6cbe7-00a2-41fc-f37c-8b3e647b9e39"
      },
      "outputs": [
        {
          "output_type": "execute_result",
          "data": {
            "text/plain": [
              "array(['language_de', 'language_en', 'language_es', 'language_fr',\n",
              "       'language_ga', 'language_gl', 'language_is', 'language_it',\n",
              "       'language_pt', 'language_rw'], dtype=object)"
            ]
          },
          "metadata": {},
          "execution_count": 11
        }
      ],
      "source": [
        "encoder = OneHotEncoder(drop='first', handle_unknown='ignore' )\n",
        "lenguaje_train = encoder.fit_transform(X_train[['language']]).todense().astype(int)\n",
        "encoder.get_feature_names_out()"
      ]
    },
    {
      "cell_type": "code",
      "execution_count": null,
      "metadata": {
        "colab": {
          "base_uri": "https://localhost:8080/"
        },
        "id": "DHXwEK3jJ7rF",
        "outputId": "b1a248a1-3ccd-4ee8-d7ad-aedc76f8ec70"
      },
      "outputs": [
        {
          "output_type": "stream",
          "name": "stderr",
          "text": [
            "/usr/local/lib/python3.7/dist-packages/sklearn/preprocessing/_encoders.py:174: UserWarning: Found unknown categories in columns [0] during transform. These unknown categories will be encoded as all zeros\n",
            "  UserWarning,\n"
          ]
        },
        {
          "output_type": "execute_result",
          "data": {
            "text/plain": [
              "array(['language_de', 'language_en', 'language_es', 'language_fr',\n",
              "       'language_ga', 'language_gl', 'language_is', 'language_it',\n",
              "       'language_pt', 'language_rw'], dtype=object)"
            ]
          },
          "metadata": {},
          "execution_count": 12
        }
      ],
      "source": [
        "lenguaje_valid = encoder.transform(X_valid[['language']]).todense().astype(int)\n",
        "encoder.get_feature_names_out()"
      ]
    },
    {
      "cell_type": "code",
      "execution_count": null,
      "metadata": {
        "colab": {
          "base_uri": "https://localhost:8080/"
        },
        "id": "FOxaEeE7UFWG",
        "outputId": "ec2c41e7-9e50-4721-d28d-1e87445ee52b"
      },
      "outputs": [
        {
          "output_type": "execute_result",
          "data": {
            "text/plain": [
              "array(['language_de', 'language_en', 'language_es', 'language_fr',\n",
              "       'language_ga', 'language_gl', 'language_is', 'language_it',\n",
              "       'language_pt', 'language_rw'], dtype=object)"
            ]
          },
          "metadata": {},
          "execution_count": 13
        }
      ],
      "source": [
        "lenguaje_test = encoder.transform(X_test[['language']]).todense().astype(int)\n",
        "encoder.get_feature_names_out()"
      ]
    },
    {
      "cell_type": "code",
      "execution_count": null,
      "metadata": {
        "id": "U61L9K59Oq7p"
      },
      "outputs": [],
      "source": [
        "X_train = X_train.reset_index().drop(['index', 'language'], axis=1).join(pd.DataFrame(lenguaje_train, columns = ('language_de', 'language_en', 'language_es', 'language_fr',\n",
        "       'language_ga', 'language_gl', 'language_is', 'language_it',\n",
        "       'language_pt', 'language_rw')))\n",
        "X_valid = X_valid.reset_index().drop(['index', 'language'], axis=1).join(pd.DataFrame(lenguaje_valid, columns = ('language_de', 'language_en', 'language_es', 'language_fr',\n",
        "       'language_ga', 'language_gl', 'language_is', 'language_it',\n",
        "       'language_pt', 'language_rw')))\n",
        "X_test = X_test.reset_index().drop(['index', 'language'], axis=1).join(pd.DataFrame(lenguaje_test, columns = ('language_de', 'language_en', 'language_es', 'language_fr',\n",
        "       'language_ga', 'language_gl', 'language_is', 'language_it',\n",
        "       'language_pt', 'language_rw')))"
      ]
    },
    {
      "cell_type": "code",
      "execution_count": null,
      "metadata": {
        "id": "sChT50odKzeL"
      },
      "outputs": [],
      "source": [
        "X_valid['s-label'] = X_valid['s-label'].fillna(X_train['s-label'].median())\n",
        "X_train['s-label'] = X_train['s-label'].fillna(X_train['s-label'].median())\n",
        "X_test['s-label'] = X_test['s-label'].fillna(X_train['s-label'].median())"
      ]
    },
    {
      "cell_type": "code",
      "execution_count": null,
      "metadata": {
        "colab": {
          "base_uri": "https://localhost:8080/"
        },
        "id": "J_Buw0Yya5yg",
        "outputId": "23b22d45-0185-4e22-e268-9af4fcffd407"
      },
      "outputs": [
        {
          "output_type": "execute_result",
          "data": {
            "text/plain": [
              "array(['key_A#', 'key_B', 'key_C', 'key_C#', 'key_D', 'key_D#', 'key_E',\n",
              "       'key_F', 'key_F#', 'key_G', 'key_G#'], dtype=object)"
            ]
          },
          "metadata": {},
          "execution_count": 16
        }
      ],
      "source": [
        "key_train =  encoder.fit_transform(X_train[['key']]).todense().astype(int)\n",
        "encoder.get_feature_names_out()"
      ]
    },
    {
      "cell_type": "code",
      "execution_count": null,
      "metadata": {
        "colab": {
          "base_uri": "https://localhost:8080/"
        },
        "id": "NmzlCV1Qa6RN",
        "outputId": "38333d9c-96a9-4160-a83c-a49e519320aa"
      },
      "outputs": [
        {
          "output_type": "execute_result",
          "data": {
            "text/plain": [
              "array(['key_A#', 'key_B', 'key_C', 'key_C#', 'key_D', 'key_D#', 'key_E',\n",
              "       'key_F', 'key_F#', 'key_G', 'key_G#'], dtype=object)"
            ]
          },
          "metadata": {},
          "execution_count": 17
        }
      ],
      "source": [
        "key_valid =  encoder.transform(X_valid[['key']]).todense().astype(int)\n",
        "encoder.get_feature_names_out()"
      ]
    },
    {
      "cell_type": "code",
      "execution_count": null,
      "metadata": {
        "colab": {
          "base_uri": "https://localhost:8080/"
        },
        "id": "DRsKAHBPa9kG",
        "outputId": "e770e34a-4d4c-4c1a-9c6f-5c9b869c3194"
      },
      "outputs": [
        {
          "output_type": "execute_result",
          "data": {
            "text/plain": [
              "array(['key_A#', 'key_B', 'key_C', 'key_C#', 'key_D', 'key_D#', 'key_E',\n",
              "       'key_F', 'key_F#', 'key_G', 'key_G#'], dtype=object)"
            ]
          },
          "metadata": {},
          "execution_count": 18
        }
      ],
      "source": [
        "key_test =  encoder.transform(X_test[['key']]).todense().astype(int)\n",
        "encoder.get_feature_names_out()"
      ]
    },
    {
      "cell_type": "code",
      "execution_count": null,
      "metadata": {
        "id": "FPwRABdsa_Xl"
      },
      "outputs": [],
      "source": [
        "X_train = X_train.reset_index().drop(['index', 'key'], axis=1).join(pd.DataFrame(key_train, columns = ('key_A#', 'key_B', 'key_C', 'key_C#', 'key_D', 'key_D#', 'key_E',\n",
        "       'key_F', 'key_F#', 'key_G', 'key_G#')))\n",
        "X_valid = X_valid.reset_index().drop(['index', 'key'], axis=1).join(pd.DataFrame(key_valid, columns = ('key_A#', 'key_B', 'key_C', 'key_C#', 'key_D', 'key_D#', 'key_E',\n",
        "       'key_F', 'key_F#', 'key_G', 'key_G#')))\n",
        "X_test = X_test.reset_index().drop(['index', 'key'], axis=1).join(pd.DataFrame(key_test, columns = ('key_A#', 'key_B', 'key_C', 'key_C#', 'key_D', 'key_D#', 'key_E',\n",
        "       'key_F', 'key_F#', 'key_G', 'key_G#')))"
      ]
    },
    {
      "cell_type": "markdown",
      "metadata": {
        "id": "epgysf4Gar0N"
      },
      "source": [
        "# Mean Encoding"
      ]
    },
    {
      "cell_type": "code",
      "execution_count": null,
      "metadata": {
        "id": "IYYjdQ-bGjWg"
      },
      "outputs": [],
      "source": [
        "X_train.loc[(X_train['mode'] == 'Major'),'mode']=int(1)\n",
        "X_train.loc[(X_train['mode'] == 'Minor'),'mode']=int(0)\n",
        "\n",
        "X_valid.loc[(X_valid['mode'] == 'Major'),'mode']=int(1)\n",
        "X_valid.loc[(X_valid['mode'] == 'Minor'),'mode']=int(0)\n",
        "\n",
        "X_test.loc[(X_test['mode'] == 'Major'),'mode']=int(1)\n",
        "X_test.loc[(X_test['mode'] == 'Minor'),'mode']=int(0)"
      ]
    },
    {
      "cell_type": "code",
      "execution_count": null,
      "metadata": {
        "id": "EBTf5hIOInhp"
      },
      "outputs": [],
      "source": [
        "X_train['mode'] = X_train['mode'].astype(int)\n",
        "X_valid['mode'] = X_valid['mode'].astype(int)\n",
        "X_test['mode'] = X_test['mode'].astype(int)"
      ]
    },
    {
      "cell_type": "code",
      "execution_count": null,
      "metadata": {
        "id": "9iM_wVL2IHCC"
      },
      "outputs": [],
      "source": [
        "mean_encoding = X_train.groupby(['time_signature'])['mode'].mean().to_dict()\n",
        "  \n",
        "X_train['time_signature'] =  X_train['time_signature'].map(mean_encoding)\n",
        "X_valid['time_signature'] =  X_train['time_signature'].map(mean_encoding)\n",
        "X_test['time_signature'] =  X_train['time_signature'].map(mean_encoding)"
      ]
    },
    {
      "cell_type": "markdown",
      "metadata": {
        "id": "hNf0SnLsaxEd"
      },
      "source": [
        "# TF-IDF Vectorizer"
      ]
    },
    {
      "cell_type": "code",
      "execution_count": null,
      "metadata": {
        "id": "5PLzdDd5_Bsf"
      },
      "outputs": [],
      "source": [
        "X_train[\"lyric\"] = X_train[\"lyric\"].fillna(\"\")\n",
        "X_valid[\"lyric\"] = X_valid[\"lyric\"].fillna(\"\")\n",
        "X_test[\"lyric\"] = X_test[\"lyric\"].fillna(\"\")"
      ]
    },
    {
      "cell_type": "code",
      "execution_count": null,
      "metadata": {
        "id": "3rYmYBMXc4c4"
      },
      "outputs": [],
      "source": [
        "countIDF = TfidfVectorizer(lowercase=True, stop_words='english', max_features=50)"
      ]
    },
    {
      "cell_type": "code",
      "execution_count": null,
      "metadata": {
        "id": "4RRxQ9zQVaHV"
      },
      "outputs": [],
      "source": [
        "vectorizado_train = countIDF.fit_transform(X_train[\"lyric\"]).todense().astype(int)\n",
        "vectorizado_valid = countIDF.transform(X_valid[\"lyric\"]).todense().astype(int)\n",
        "vectorizado_test = countIDF.transform(X_test[\"lyric\"]).todense().astype(int)"
      ]
    },
    {
      "cell_type": "code",
      "execution_count": null,
      "metadata": {
        "id": "gImIEfY3eGXq"
      },
      "outputs": [],
      "source": [
        "X_train = X_train.reset_index().drop(['index', 'lyric'], axis=1).join(pd.DataFrame(vectorizado_train))\n",
        "X_valid = X_valid.reset_index().drop(['index', 'lyric'], axis=1).join(pd.DataFrame(vectorizado_valid))\n",
        "X_test = X_test.reset_index().drop(['index', 'lyric'], axis=1).join(pd.DataFrame(vectorizado_test))"
      ]
    },
    {
      "cell_type": "code",
      "execution_count": null,
      "metadata": {
        "colab": {
          "base_uri": "https://localhost:8080/"
        },
        "id": "aZRfQsXaiKqA",
        "outputId": "a482e998-cc1e-4807-a80f-4bea8bc5813b"
      },
      "outputs": [
        {
          "output_type": "stream",
          "name": "stderr",
          "text": [
            "/usr/local/lib/python3.7/dist-packages/sklearn/utils/validation.py:1692: FutureWarning: Feature names only support names that are all strings. Got feature names with dtypes: ['int', 'str']. An error will be raised in 1.2.\n",
            "  FutureWarning,\n",
            "/usr/local/lib/python3.7/dist-packages/sklearn/utils/validation.py:1692: FutureWarning: Feature names only support names that are all strings. Got feature names with dtypes: ['int', 'str']. An error will be raised in 1.2.\n",
            "  FutureWarning,\n",
            "/usr/local/lib/python3.7/dist-packages/sklearn/utils/validation.py:1692: FutureWarning: Feature names only support names that are all strings. Got feature names with dtypes: ['int', 'str']. An error will be raised in 1.2.\n",
            "  FutureWarning,\n",
            "/usr/local/lib/python3.7/dist-packages/sklearn/utils/validation.py:1692: FutureWarning: Feature names only support names that are all strings. Got feature names with dtypes: ['int', 'str']. An error will be raised in 1.2.\n",
            "  FutureWarning,\n"
          ]
        }
      ],
      "source": [
        "escalador = MinMaxScaler()\n",
        "\n",
        "X_train_escalado = escalador.fit_transform(X_train)\n",
        "X_train = pd.DataFrame(X_train_escalado, columns = X_train.columns)\n",
        "\n",
        "X_valid_escalado = escalador.transform(X_valid)\n",
        "X_valid = pd.DataFrame(X_valid_escalado, columns = X_valid.columns)\n",
        "\n",
        "X_test_escalado = escalador.transform(X_test)\n",
        "X_test = pd.DataFrame(X_test_escalado, columns = X_test.columns)"
      ]
    },
    {
      "cell_type": "markdown",
      "metadata": {
        "id": "kdNk-4J0in3j"
      },
      "source": [
        "# Busco hiper parametros y hago modelo de XGBoost"
      ]
    },
    {
      "cell_type": "code",
      "source": [
        "# Busqueda de hiperparametros\n",
        "\n",
        "parametros = {\n",
        "    'learning_rate':[0.05, 0.1, 0.2, 0.3,0.5],\n",
        "     'n_estimators':[15, 30, 50, 75, 100],\n",
        "     'max_depth':[2,3,5,8,10],\n",
        "    'colsample_bytree':[0.1,0.3,0.5,1],\n",
        "    'gamma':[0.5,1,3,5, 7]\n",
        "    }\n",
        "\n",
        "xgb = XGBClassifier(random_state = 26)\n",
        "resultados = RandomizedSearchCV(xgb, parametros, cv=3, scoring='accuracy', n_iter=40, n_jobs=1, verbose=10, random_state=26)\n",
        "resultados.fit(X_train, y_train)\n",
        "print(resultados.best_estimator_)\n",
        "print(resultados.best_params_)"
      ],
      "metadata": {
        "colab": {
          "base_uri": "https://localhost:8080/"
        },
        "id": "yJrJx8pN5mxY",
        "outputId": "69cc0e8a-58f6-43c6-92b6-24072e2d7bb3"
      },
      "execution_count": null,
      "outputs": [
        {
          "metadata": {
            "tags": null
          },
          "name": "stdout",
          "output_type": "stream",
          "text": [
            "Fitting 3 folds for each of 40 candidates, totalling 120 fits\n",
            "[CV 1/3; 1/40] START colsample_bytree=0.1, gamma=1, learning_rate=0.3, max_depth=8, n_estimators=30\n"
          ]
        },
        {
          "metadata": {
            "tags": null
          },
          "name": "stderr",
          "output_type": "stream",
          "text": [
            "/usr/local/lib/python3.7/dist-packages/sklearn/model_selection/_split.py:680: UserWarning: The least populated class in y has only 1 members, which is less than n_splits=3.\n",
            "  UserWarning,\n"
          ]
        },
        {
          "output_type": "stream",
          "name": "stdout",
          "text": [
            "[CV 1/3; 1/40] END colsample_bytree=0.1, gamma=1, learning_rate=0.3, max_depth=8, n_estimators=30;, score=0.338 total time=  14.6s\n",
            "[CV 2/3; 1/40] START colsample_bytree=0.1, gamma=1, learning_rate=0.3, max_depth=8, n_estimators=30\n",
            "[CV 2/3; 1/40] END colsample_bytree=0.1, gamma=1, learning_rate=0.3, max_depth=8, n_estimators=30;, score=0.259 total time=  13.1s\n",
            "[CV 3/3; 1/40] START colsample_bytree=0.1, gamma=1, learning_rate=0.3, max_depth=8, n_estimators=30\n",
            "[CV 3/3; 1/40] END colsample_bytree=0.1, gamma=1, learning_rate=0.3, max_depth=8, n_estimators=30;, score=0.350 total time=  13.2s\n",
            "[CV 1/3; 2/40] START colsample_bytree=0.1, gamma=5, learning_rate=0.2, max_depth=3, n_estimators=100\n",
            "[CV 1/3; 2/40] END colsample_bytree=0.1, gamma=5, learning_rate=0.2, max_depth=3, n_estimators=100;, score=0.382 total time=  29.5s\n",
            "[CV 2/3; 2/40] START colsample_bytree=0.1, gamma=5, learning_rate=0.2, max_depth=3, n_estimators=100\n",
            "[CV 2/3; 2/40] END colsample_bytree=0.1, gamma=5, learning_rate=0.2, max_depth=3, n_estimators=100;, score=0.291 total time=  29.4s\n",
            "[CV 3/3; 2/40] START colsample_bytree=0.1, gamma=5, learning_rate=0.2, max_depth=3, n_estimators=100\n",
            "[CV 3/3; 2/40] END colsample_bytree=0.1, gamma=5, learning_rate=0.2, max_depth=3, n_estimators=100;, score=0.356 total time=  30.3s\n",
            "[CV 1/3; 3/40] START colsample_bytree=0.1, gamma=5, learning_rate=0.05, max_depth=10, n_estimators=50\n",
            "[CV 1/3; 3/40] END colsample_bytree=0.1, gamma=5, learning_rate=0.05, max_depth=10, n_estimators=50;, score=0.331 total time=  24.1s\n",
            "[CV 2/3; 3/40] START colsample_bytree=0.1, gamma=5, learning_rate=0.05, max_depth=10, n_estimators=50\n",
            "[CV 2/3; 3/40] END colsample_bytree=0.1, gamma=5, learning_rate=0.05, max_depth=10, n_estimators=50;, score=0.241 total time=  23.3s\n",
            "[CV 3/3; 3/40] START colsample_bytree=0.1, gamma=5, learning_rate=0.05, max_depth=10, n_estimators=50\n",
            "[CV 3/3; 3/40] END colsample_bytree=0.1, gamma=5, learning_rate=0.05, max_depth=10, n_estimators=50;, score=0.361 total time=  24.1s\n",
            "[CV 1/3; 4/40] START colsample_bytree=0.1, gamma=0.5, learning_rate=0.2, max_depth=10, n_estimators=100\n",
            "[CV 1/3; 4/40] END colsample_bytree=0.1, gamma=0.5, learning_rate=0.2, max_depth=10, n_estimators=100;, score=0.380 total time=  49.6s\n",
            "[CV 2/3; 4/40] START colsample_bytree=0.1, gamma=0.5, learning_rate=0.2, max_depth=10, n_estimators=100\n",
            "[CV 2/3; 4/40] END colsample_bytree=0.1, gamma=0.5, learning_rate=0.2, max_depth=10, n_estimators=100;, score=0.296 total time=  48.1s\n",
            "[CV 3/3; 4/40] START colsample_bytree=0.1, gamma=0.5, learning_rate=0.2, max_depth=10, n_estimators=100\n",
            "[CV 3/3; 4/40] END colsample_bytree=0.1, gamma=0.5, learning_rate=0.2, max_depth=10, n_estimators=100;, score=0.431 total time=  49.0s\n",
            "[CV 1/3; 5/40] START colsample_bytree=0.5, gamma=5, learning_rate=0.05, max_depth=5, n_estimators=30\n",
            "[CV 1/3; 5/40] END colsample_bytree=0.5, gamma=5, learning_rate=0.05, max_depth=5, n_estimators=30;, score=0.371 total time=  25.7s\n",
            "[CV 2/3; 5/40] START colsample_bytree=0.5, gamma=5, learning_rate=0.05, max_depth=5, n_estimators=30\n",
            "[CV 2/3; 5/40] END colsample_bytree=0.5, gamma=5, learning_rate=0.05, max_depth=5, n_estimators=30;, score=0.298 total time=  24.8s\n",
            "[CV 3/3; 5/40] START colsample_bytree=0.5, gamma=5, learning_rate=0.05, max_depth=5, n_estimators=30\n",
            "[CV 3/3; 5/40] END colsample_bytree=0.5, gamma=5, learning_rate=0.05, max_depth=5, n_estimators=30;, score=0.392 total time=  26.4s\n",
            "[CV 1/3; 6/40] START colsample_bytree=1, gamma=7, learning_rate=0.05, max_depth=10, n_estimators=75\n",
            "[CV 1/3; 6/40] END colsample_bytree=1, gamma=7, learning_rate=0.05, max_depth=10, n_estimators=75;, score=0.376 total time= 3.2min\n",
            "[CV 2/3; 6/40] START colsample_bytree=1, gamma=7, learning_rate=0.05, max_depth=10, n_estimators=75\n",
            "[CV 2/3; 6/40] END colsample_bytree=1, gamma=7, learning_rate=0.05, max_depth=10, n_estimators=75;, score=0.307 total time= 3.2min\n",
            "[CV 3/3; 6/40] START colsample_bytree=1, gamma=7, learning_rate=0.05, max_depth=10, n_estimators=75\n",
            "[CV 3/3; 6/40] END colsample_bytree=1, gamma=7, learning_rate=0.05, max_depth=10, n_estimators=75;, score=0.368 total time= 3.1min\n",
            "[CV 1/3; 7/40] START colsample_bytree=0.3, gamma=0.5, learning_rate=0.3, max_depth=5, n_estimators=100\n",
            "[CV 1/3; 7/40] END colsample_bytree=0.3, gamma=0.5, learning_rate=0.3, max_depth=5, n_estimators=100;, score=0.397 total time= 1.0min\n",
            "[CV 2/3; 7/40] START colsample_bytree=0.3, gamma=0.5, learning_rate=0.3, max_depth=5, n_estimators=100\n",
            "[CV 2/3; 7/40] END colsample_bytree=0.3, gamma=0.5, learning_rate=0.3, max_depth=5, n_estimators=100;, score=0.316 total time=  59.3s\n",
            "[CV 3/3; 7/40] START colsample_bytree=0.3, gamma=0.5, learning_rate=0.3, max_depth=5, n_estimators=100\n",
            "[CV 3/3; 7/40] END colsample_bytree=0.3, gamma=0.5, learning_rate=0.3, max_depth=5, n_estimators=100;, score=0.435 total time= 1.0min\n",
            "[CV 1/3; 8/40] START colsample_bytree=0.5, gamma=5, learning_rate=0.2, max_depth=5, n_estimators=75\n",
            "[CV 1/3; 8/40] END colsample_bytree=0.5, gamma=5, learning_rate=0.2, max_depth=5, n_estimators=75;, score=0.380 total time= 1.0min\n",
            "[CV 2/3; 8/40] START colsample_bytree=0.5, gamma=5, learning_rate=0.2, max_depth=5, n_estimators=75\n",
            "[CV 2/3; 8/40] END colsample_bytree=0.5, gamma=5, learning_rate=0.2, max_depth=5, n_estimators=75;, score=0.320 total time= 1.0min\n",
            "[CV 3/3; 8/40] START colsample_bytree=0.5, gamma=5, learning_rate=0.2, max_depth=5, n_estimators=75\n",
            "[CV 3/3; 8/40] END colsample_bytree=0.5, gamma=5, learning_rate=0.2, max_depth=5, n_estimators=75;, score=0.415 total time= 1.0min\n",
            "[CV 1/3; 9/40] START colsample_bytree=1, gamma=0.5, learning_rate=0.05, max_depth=2, n_estimators=15\n",
            "[CV 1/3; 9/40] END colsample_bytree=1, gamma=0.5, learning_rate=0.05, max_depth=2, n_estimators=15;, score=0.316 total time=  10.3s\n",
            "[CV 2/3; 9/40] START colsample_bytree=1, gamma=0.5, learning_rate=0.05, max_depth=2, n_estimators=15\n",
            "[CV 2/3; 9/40] END colsample_bytree=1, gamma=0.5, learning_rate=0.05, max_depth=2, n_estimators=15;, score=0.257 total time=  10.0s\n",
            "[CV 3/3; 9/40] START colsample_bytree=1, gamma=0.5, learning_rate=0.05, max_depth=2, n_estimators=15\n",
            "[CV 3/3; 9/40] END colsample_bytree=1, gamma=0.5, learning_rate=0.05, max_depth=2, n_estimators=15;, score=0.316 total time=  10.6s\n",
            "[CV 1/3; 10/40] START colsample_bytree=0.5, gamma=7, learning_rate=0.05, max_depth=3, n_estimators=100\n",
            "[CV 1/3; 10/40] END colsample_bytree=0.5, gamma=7, learning_rate=0.05, max_depth=3, n_estimators=100;, score=0.364 total time=  58.0s\n",
            "[CV 2/3; 10/40] START colsample_bytree=0.5, gamma=7, learning_rate=0.05, max_depth=3, n_estimators=100\n",
            "[CV 2/3; 10/40] END colsample_bytree=0.5, gamma=7, learning_rate=0.05, max_depth=3, n_estimators=100;, score=0.303 total time=  56.4s\n",
            "[CV 3/3; 10/40] START colsample_bytree=0.5, gamma=7, learning_rate=0.05, max_depth=3, n_estimators=100\n",
            "[CV 3/3; 10/40] END colsample_bytree=0.5, gamma=7, learning_rate=0.05, max_depth=3, n_estimators=100;, score=0.361 total time=  57.8s\n",
            "[CV 1/3; 11/40] START colsample_bytree=0.3, gamma=3, learning_rate=0.2, max_depth=10, n_estimators=30\n",
            "[CV 1/3; 11/40] END colsample_bytree=0.3, gamma=3, learning_rate=0.2, max_depth=10, n_estimators=30;, score=0.391 total time=  30.8s\n",
            "[CV 2/3; 11/40] START colsample_bytree=0.3, gamma=3, learning_rate=0.2, max_depth=10, n_estimators=30\n",
            "[CV 2/3; 11/40] END colsample_bytree=0.3, gamma=3, learning_rate=0.2, max_depth=10, n_estimators=30;, score=0.302 total time=  30.4s\n",
            "[CV 3/3; 11/40] START colsample_bytree=0.3, gamma=3, learning_rate=0.2, max_depth=10, n_estimators=30\n",
            "[CV 3/3; 11/40] END colsample_bytree=0.3, gamma=3, learning_rate=0.2, max_depth=10, n_estimators=30;, score=0.426 total time=  30.4s\n",
            "[CV 1/3; 12/40] START colsample_bytree=0.1, gamma=7, learning_rate=0.05, max_depth=8, n_estimators=100\n",
            "[CV 1/3; 12/40] END colsample_bytree=0.1, gamma=7, learning_rate=0.05, max_depth=8, n_estimators=100;, score=0.358 total time=  41.4s\n",
            "[CV 2/3; 12/40] START colsample_bytree=0.1, gamma=7, learning_rate=0.05, max_depth=8, n_estimators=100\n",
            "[CV 2/3; 12/40] END colsample_bytree=0.1, gamma=7, learning_rate=0.05, max_depth=8, n_estimators=100;, score=0.274 total time=  40.3s\n",
            "[CV 3/3; 12/40] START colsample_bytree=0.1, gamma=7, learning_rate=0.05, max_depth=8, n_estimators=100\n",
            "[CV 3/3; 12/40] END colsample_bytree=0.1, gamma=7, learning_rate=0.05, max_depth=8, n_estimators=100;, score=0.379 total time=  40.9s\n",
            "[CV 1/3; 13/40] START colsample_bytree=0.1, gamma=1, learning_rate=0.5, max_depth=5, n_estimators=50\n",
            "[CV 1/3; 13/40] END colsample_bytree=0.1, gamma=1, learning_rate=0.5, max_depth=5, n_estimators=50;, score=0.371 total time=  17.7s\n",
            "[CV 2/3; 13/40] START colsample_bytree=0.1, gamma=1, learning_rate=0.5, max_depth=5, n_estimators=50\n",
            "[CV 2/3; 13/40] END colsample_bytree=0.1, gamma=1, learning_rate=0.5, max_depth=5, n_estimators=50;, score=0.290 total time=  17.2s\n",
            "[CV 3/3; 13/40] START colsample_bytree=0.1, gamma=1, learning_rate=0.5, max_depth=5, n_estimators=50\n",
            "[CV 3/3; 13/40] END colsample_bytree=0.1, gamma=1, learning_rate=0.5, max_depth=5, n_estimators=50;, score=0.358 total time=  17.6s\n",
            "[CV 1/3; 14/40] START colsample_bytree=0.3, gamma=0.5, learning_rate=0.05, max_depth=10, n_estimators=15\n",
            "[CV 1/3; 14/40] END colsample_bytree=0.3, gamma=0.5, learning_rate=0.05, max_depth=10, n_estimators=15;, score=0.375 total time=  15.8s\n",
            "[CV 2/3; 14/40] START colsample_bytree=0.3, gamma=0.5, learning_rate=0.05, max_depth=10, n_estimators=15\n",
            "[CV 2/3; 14/40] END colsample_bytree=0.3, gamma=0.5, learning_rate=0.05, max_depth=10, n_estimators=15;, score=0.291 total time=  15.6s\n",
            "[CV 3/3; 14/40] START colsample_bytree=0.3, gamma=0.5, learning_rate=0.05, max_depth=10, n_estimators=15\n",
            "[CV 3/3; 14/40] END colsample_bytree=0.3, gamma=0.5, learning_rate=0.05, max_depth=10, n_estimators=15;, score=0.422 total time=  15.5s\n",
            "[CV 1/3; 15/40] START colsample_bytree=0.5, gamma=7, learning_rate=0.1, max_depth=3, n_estimators=30\n",
            "[CV 1/3; 15/40] END colsample_bytree=0.5, gamma=7, learning_rate=0.1, max_depth=3, n_estimators=30;, score=0.359 total time=  17.4s\n",
            "[CV 2/3; 15/40] START colsample_bytree=0.5, gamma=7, learning_rate=0.1, max_depth=3, n_estimators=30\n",
            "[CV 2/3; 15/40] END colsample_bytree=0.5, gamma=7, learning_rate=0.1, max_depth=3, n_estimators=30;, score=0.294 total time=  17.1s\n",
            "[CV 3/3; 15/40] START colsample_bytree=0.5, gamma=7, learning_rate=0.1, max_depth=3, n_estimators=30\n",
            "[CV 3/3; 15/40] END colsample_bytree=0.5, gamma=7, learning_rate=0.1, max_depth=3, n_estimators=30;, score=0.349 total time=  17.7s\n",
            "[CV 1/3; 16/40] START colsample_bytree=0.1, gamma=0.5, learning_rate=0.5, max_depth=8, n_estimators=30\n",
            "[CV 1/3; 16/40] END colsample_bytree=0.1, gamma=0.5, learning_rate=0.5, max_depth=8, n_estimators=30;, score=0.344 total time=  13.3s\n",
            "[CV 2/3; 16/40] START colsample_bytree=0.1, gamma=0.5, learning_rate=0.5, max_depth=8, n_estimators=30\n",
            "[CV 2/3; 16/40] END colsample_bytree=0.1, gamma=0.5, learning_rate=0.5, max_depth=8, n_estimators=30;, score=0.261 total time=  13.0s\n",
            "[CV 3/3; 16/40] START colsample_bytree=0.1, gamma=0.5, learning_rate=0.5, max_depth=8, n_estimators=30\n",
            "[CV 3/3; 16/40] END colsample_bytree=0.1, gamma=0.5, learning_rate=0.5, max_depth=8, n_estimators=30;, score=0.360 total time=  13.2s\n",
            "[CV 1/3; 17/40] START colsample_bytree=0.1, gamma=5, learning_rate=0.2, max_depth=2, n_estimators=50\n",
            "[CV 1/3; 17/40] END colsample_bytree=0.1, gamma=5, learning_rate=0.2, max_depth=2, n_estimators=50;, score=0.343 total time=  13.4s\n",
            "[CV 2/3; 17/40] START colsample_bytree=0.1, gamma=5, learning_rate=0.2, max_depth=2, n_estimators=50\n",
            "[CV 2/3; 17/40] END colsample_bytree=0.1, gamma=5, learning_rate=0.2, max_depth=2, n_estimators=50;, score=0.264 total time=  12.9s\n",
            "[CV 3/3; 17/40] START colsample_bytree=0.1, gamma=5, learning_rate=0.2, max_depth=2, n_estimators=50\n",
            "[CV 3/3; 17/40] END colsample_bytree=0.1, gamma=5, learning_rate=0.2, max_depth=2, n_estimators=50;, score=0.304 total time=  13.4s\n",
            "[CV 1/3; 18/40] START colsample_bytree=0.1, gamma=5, learning_rate=0.1, max_depth=5, n_estimators=15\n",
            "[CV 1/3; 18/40] END colsample_bytree=0.1, gamma=5, learning_rate=0.1, max_depth=5, n_estimators=15;, score=0.317 total time=   5.6s\n",
            "[CV 2/3; 18/40] START colsample_bytree=0.1, gamma=5, learning_rate=0.1, max_depth=5, n_estimators=15\n",
            "[CV 2/3; 18/40] END colsample_bytree=0.1, gamma=5, learning_rate=0.1, max_depth=5, n_estimators=15;, score=0.193 total time=   5.3s\n",
            "[CV 3/3; 18/40] START colsample_bytree=0.1, gamma=5, learning_rate=0.1, max_depth=5, n_estimators=15\n",
            "[CV 3/3; 18/40] END colsample_bytree=0.1, gamma=5, learning_rate=0.1, max_depth=5, n_estimators=15;, score=0.254 total time=   5.5s\n",
            "[CV 1/3; 19/40] START colsample_bytree=0.5, gamma=3, learning_rate=0.3, max_depth=8, n_estimators=75\n",
            "[CV 1/3; 19/40] END colsample_bytree=0.5, gamma=3, learning_rate=0.3, max_depth=8, n_estimators=75;, score=0.380 total time= 1.5min\n",
            "[CV 2/3; 19/40] START colsample_bytree=0.5, gamma=3, learning_rate=0.3, max_depth=8, n_estimators=75\n",
            "[CV 2/3; 19/40] END colsample_bytree=0.5, gamma=3, learning_rate=0.3, max_depth=8, n_estimators=75;, score=0.312 total time= 1.6min\n",
            "[CV 3/3; 19/40] START colsample_bytree=0.5, gamma=3, learning_rate=0.3, max_depth=8, n_estimators=75\n",
            "[CV 3/3; 19/40] END colsample_bytree=0.5, gamma=3, learning_rate=0.3, max_depth=8, n_estimators=75;, score=0.433 total time= 1.5min\n",
            "[CV 1/3; 20/40] START colsample_bytree=0.1, gamma=1, learning_rate=0.5, max_depth=10, n_estimators=15\n",
            "[CV 1/3; 20/40] END colsample_bytree=0.1, gamma=1, learning_rate=0.5, max_depth=10, n_estimators=15;, score=0.313 total time=   7.8s\n",
            "[CV 2/3; 20/40] START colsample_bytree=0.1, gamma=1, learning_rate=0.5, max_depth=10, n_estimators=15\n",
            "[CV 2/3; 20/40] END colsample_bytree=0.1, gamma=1, learning_rate=0.5, max_depth=10, n_estimators=15;, score=0.231 total time=   7.7s\n",
            "[CV 3/3; 20/40] START colsample_bytree=0.1, gamma=1, learning_rate=0.5, max_depth=10, n_estimators=15\n",
            "[CV 3/3; 20/40] END colsample_bytree=0.1, gamma=1, learning_rate=0.5, max_depth=10, n_estimators=15;, score=0.316 total time=   7.6s\n",
            "[CV 1/3; 21/40] START colsample_bytree=0.5, gamma=5, learning_rate=0.2, max_depth=2, n_estimators=50\n",
            "[CV 1/3; 21/40] END colsample_bytree=0.5, gamma=5, learning_rate=0.2, max_depth=2, n_estimators=50;, score=0.371 total time=  23.0s\n",
            "[CV 2/3; 21/40] START colsample_bytree=0.5, gamma=5, learning_rate=0.2, max_depth=2, n_estimators=50\n",
            "[CV 2/3; 21/40] END colsample_bytree=0.5, gamma=5, learning_rate=0.2, max_depth=2, n_estimators=50;, score=0.302 total time=  24.2s\n",
            "[CV 3/3; 21/40] START colsample_bytree=0.5, gamma=5, learning_rate=0.2, max_depth=2, n_estimators=50\n",
            "[CV 3/3; 21/40] END colsample_bytree=0.5, gamma=5, learning_rate=0.2, max_depth=2, n_estimators=50;, score=0.367 total time=  22.7s\n",
            "[CV 1/3; 22/40] START colsample_bytree=0.3, gamma=3, learning_rate=0.05, max_depth=3, n_estimators=100\n",
            "[CV 1/3; 22/40] END colsample_bytree=0.3, gamma=3, learning_rate=0.05, max_depth=3, n_estimators=100;, score=0.376 total time=  44.9s\n",
            "[CV 2/3; 22/40] START colsample_bytree=0.3, gamma=3, learning_rate=0.05, max_depth=3, n_estimators=100\n",
            "[CV 2/3; 22/40] END colsample_bytree=0.3, gamma=3, learning_rate=0.05, max_depth=3, n_estimators=100;, score=0.301 total time=  44.0s\n",
            "[CV 3/3; 22/40] START colsample_bytree=0.3, gamma=3, learning_rate=0.05, max_depth=3, n_estimators=100\n",
            "[CV 3/3; 22/40] END colsample_bytree=0.3, gamma=3, learning_rate=0.05, max_depth=3, n_estimators=100;, score=0.371 total time=  45.5s\n",
            "[CV 1/3; 23/40] START colsample_bytree=0.1, gamma=0.5, learning_rate=0.1, max_depth=5, n_estimators=15\n",
            "[CV 1/3; 23/40] END colsample_bytree=0.1, gamma=0.5, learning_rate=0.1, max_depth=5, n_estimators=15;, score=0.321 total time=   5.7s\n",
            "[CV 2/3; 23/40] START colsample_bytree=0.1, gamma=0.5, learning_rate=0.1, max_depth=5, n_estimators=15\n",
            "[CV 2/3; 23/40] END colsample_bytree=0.1, gamma=0.5, learning_rate=0.1, max_depth=5, n_estimators=15;, score=0.196 total time=   5.5s\n",
            "[CV 3/3; 23/40] START colsample_bytree=0.1, gamma=0.5, learning_rate=0.1, max_depth=5, n_estimators=15\n",
            "[CV 3/3; 23/40] END colsample_bytree=0.1, gamma=0.5, learning_rate=0.1, max_depth=5, n_estimators=15;, score=0.252 total time=   5.7s\n",
            "[CV 1/3; 24/40] START colsample_bytree=0.3, gamma=7, learning_rate=0.3, max_depth=3, n_estimators=50\n",
            "[CV 1/3; 24/40] END colsample_bytree=0.3, gamma=7, learning_rate=0.3, max_depth=3, n_estimators=50;, score=0.377 total time=  22.9s\n",
            "[CV 2/3; 24/40] START colsample_bytree=0.3, gamma=7, learning_rate=0.3, max_depth=3, n_estimators=50\n",
            "[CV 2/3; 24/40] END colsample_bytree=0.3, gamma=7, learning_rate=0.3, max_depth=3, n_estimators=50;, score=0.304 total time=  22.3s\n",
            "[CV 3/3; 24/40] START colsample_bytree=0.3, gamma=7, learning_rate=0.3, max_depth=3, n_estimators=50\n",
            "[CV 3/3; 24/40] END colsample_bytree=0.3, gamma=7, learning_rate=0.3, max_depth=3, n_estimators=50;, score=0.377 total time=  22.8s\n",
            "[CV 1/3; 25/40] START colsample_bytree=0.5, gamma=0.5, learning_rate=0.3, max_depth=5, n_estimators=50\n",
            "[CV 1/3; 25/40] END colsample_bytree=0.5, gamma=0.5, learning_rate=0.3, max_depth=5, n_estimators=50;, score=0.393 total time=  42.5s\n",
            "[CV 2/3; 25/40] START colsample_bytree=0.5, gamma=0.5, learning_rate=0.3, max_depth=5, n_estimators=50\n",
            "[CV 2/3; 25/40] END colsample_bytree=0.5, gamma=0.5, learning_rate=0.3, max_depth=5, n_estimators=50;, score=0.321 total time=  42.4s\n",
            "[CV 3/3; 25/40] START colsample_bytree=0.5, gamma=0.5, learning_rate=0.3, max_depth=5, n_estimators=50\n",
            "[CV 3/3; 25/40] END colsample_bytree=0.5, gamma=0.5, learning_rate=0.3, max_depth=5, n_estimators=50;, score=0.434 total time=  43.2s\n",
            "[CV 1/3; 26/40] START colsample_bytree=0.5, gamma=5, learning_rate=0.3, max_depth=5, n_estimators=100\n",
            "[CV 1/3; 26/40] END colsample_bytree=0.5, gamma=5, learning_rate=0.3, max_depth=5, n_estimators=100;, score=0.384 total time= 1.4min\n",
            "[CV 2/3; 26/40] START colsample_bytree=0.5, gamma=5, learning_rate=0.3, max_depth=5, n_estimators=100\n",
            "[CV 2/3; 26/40] END colsample_bytree=0.5, gamma=5, learning_rate=0.3, max_depth=5, n_estimators=100;, score=0.316 total time= 1.4min\n",
            "[CV 3/3; 26/40] START colsample_bytree=0.5, gamma=5, learning_rate=0.3, max_depth=5, n_estimators=100\n",
            "[CV 3/3; 26/40] END colsample_bytree=0.5, gamma=5, learning_rate=0.3, max_depth=5, n_estimators=100;, score=0.417 total time= 1.4min\n",
            "[CV 1/3; 27/40] START colsample_bytree=0.5, gamma=7, learning_rate=0.05, max_depth=3, n_estimators=75\n",
            "[CV 1/3; 27/40] END colsample_bytree=0.5, gamma=7, learning_rate=0.05, max_depth=3, n_estimators=75;, score=0.359 total time=  44.3s\n",
            "[CV 2/3; 27/40] START colsample_bytree=0.5, gamma=7, learning_rate=0.05, max_depth=3, n_estimators=75\n",
            "[CV 2/3; 27/40] END colsample_bytree=0.5, gamma=7, learning_rate=0.05, max_depth=3, n_estimators=75;, score=0.299 total time=  43.3s\n",
            "[CV 3/3; 27/40] START colsample_bytree=0.5, gamma=7, learning_rate=0.05, max_depth=3, n_estimators=75\n",
            "[CV 3/3; 27/40] END colsample_bytree=0.5, gamma=7, learning_rate=0.05, max_depth=3, n_estimators=75;, score=0.347 total time=  44.6s\n",
            "[CV 1/3; 28/40] START colsample_bytree=1, gamma=5, learning_rate=0.3, max_depth=2, n_estimators=30\n",
            "[CV 1/3; 28/40] END colsample_bytree=1, gamma=5, learning_rate=0.3, max_depth=2, n_estimators=30;, score=0.361 total time=  20.9s\n",
            "[CV 2/3; 28/40] START colsample_bytree=1, gamma=5, learning_rate=0.3, max_depth=2, n_estimators=30\n",
            "[CV 2/3; 28/40] END colsample_bytree=1, gamma=5, learning_rate=0.3, max_depth=2, n_estimators=30;, score=0.295 total time=  20.1s\n",
            "[CV 3/3; 28/40] START colsample_bytree=1, gamma=5, learning_rate=0.3, max_depth=2, n_estimators=30\n",
            "[CV 3/3; 28/40] END colsample_bytree=1, gamma=5, learning_rate=0.3, max_depth=2, n_estimators=30;, score=0.366 total time=  21.2s\n",
            "[CV 1/3; 29/40] START colsample_bytree=1, gamma=1, learning_rate=0.2, max_depth=2, n_estimators=75\n",
            "[CV 1/3; 29/40] END colsample_bytree=1, gamma=1, learning_rate=0.2, max_depth=2, n_estimators=75;, score=0.376 total time=  52.4s\n",
            "[CV 2/3; 29/40] START colsample_bytree=1, gamma=1, learning_rate=0.2, max_depth=2, n_estimators=75\n",
            "[CV 2/3; 29/40] END colsample_bytree=1, gamma=1, learning_rate=0.2, max_depth=2, n_estimators=75;, score=0.302 total time=  50.1s\n",
            "[CV 3/3; 29/40] START colsample_bytree=1, gamma=1, learning_rate=0.2, max_depth=2, n_estimators=75\n",
            "[CV 3/3; 29/40] END colsample_bytree=1, gamma=1, learning_rate=0.2, max_depth=2, n_estimators=75;, score=0.371 total time=  53.0s\n",
            "[CV 1/3; 30/40] START colsample_bytree=0.3, gamma=5, learning_rate=0.5, max_depth=3, n_estimators=15\n",
            "[CV 1/3; 30/40] END colsample_bytree=0.3, gamma=5, learning_rate=0.5, max_depth=3, n_estimators=15;, score=0.352 total time=   7.2s\n",
            "[CV 2/3; 30/40] START colsample_bytree=0.3, gamma=5, learning_rate=0.5, max_depth=3, n_estimators=15\n",
            "[CV 2/3; 30/40] END colsample_bytree=0.3, gamma=5, learning_rate=0.5, max_depth=3, n_estimators=15;, score=0.284 total time=   6.9s\n",
            "[CV 3/3; 30/40] START colsample_bytree=0.3, gamma=5, learning_rate=0.5, max_depth=3, n_estimators=15\n",
            "[CV 3/3; 30/40] END colsample_bytree=0.3, gamma=5, learning_rate=0.5, max_depth=3, n_estimators=15;, score=0.366 total time=   7.4s\n",
            "[CV 1/3; 31/40] START colsample_bytree=0.3, gamma=3, learning_rate=0.3, max_depth=3, n_estimators=75\n",
            "[CV 1/3; 31/40] END colsample_bytree=0.3, gamma=3, learning_rate=0.3, max_depth=3, n_estimators=75;, score=0.390 total time=  34.0s\n",
            "[CV 2/3; 31/40] START colsample_bytree=0.3, gamma=3, learning_rate=0.3, max_depth=3, n_estimators=75\n",
            "[CV 2/3; 31/40] END colsample_bytree=0.3, gamma=3, learning_rate=0.3, max_depth=3, n_estimators=75;, score=0.315 total time=  33.3s\n",
            "[CV 3/3; 31/40] START colsample_bytree=0.3, gamma=3, learning_rate=0.3, max_depth=3, n_estimators=75\n",
            "[CV 3/3; 31/40] END colsample_bytree=0.3, gamma=3, learning_rate=0.3, max_depth=3, n_estimators=75;, score=0.394 total time=  33.8s\n",
            "[CV 1/3; 32/40] START colsample_bytree=0.5, gamma=3, learning_rate=0.3, max_depth=10, n_estimators=50\n",
            "[CV 1/3; 32/40] END colsample_bytree=0.5, gamma=3, learning_rate=0.3, max_depth=10, n_estimators=50;, score=0.381 total time= 1.2min\n",
            "[CV 2/3; 32/40] START colsample_bytree=0.5, gamma=3, learning_rate=0.3, max_depth=10, n_estimators=50\n",
            "[CV 2/3; 32/40] END colsample_bytree=0.5, gamma=3, learning_rate=0.3, max_depth=10, n_estimators=50;, score=0.315 total time= 1.2min\n",
            "[CV 3/3; 32/40] START colsample_bytree=0.5, gamma=3, learning_rate=0.3, max_depth=10, n_estimators=50\n",
            "[CV 3/3; 32/40] END colsample_bytree=0.5, gamma=3, learning_rate=0.3, max_depth=10, n_estimators=50;, score=0.436 total time= 1.2min\n",
            "[CV 1/3; 33/40] START colsample_bytree=0.5, gamma=0.5, learning_rate=0.5, max_depth=8, n_estimators=100\n",
            "[CV 1/3; 33/40] END colsample_bytree=0.5, gamma=0.5, learning_rate=0.5, max_depth=8, n_estimators=100;, score=0.400 total time= 1.9min\n",
            "[CV 2/3; 33/40] START colsample_bytree=0.5, gamma=0.5, learning_rate=0.5, max_depth=8, n_estimators=100\n",
            "[CV 2/3; 33/40] END colsample_bytree=0.5, gamma=0.5, learning_rate=0.5, max_depth=8, n_estimators=100;, score=0.321 total time= 1.9min\n",
            "[CV 3/3; 33/40] START colsample_bytree=0.5, gamma=0.5, learning_rate=0.5, max_depth=8, n_estimators=100\n",
            "[CV 3/3; 33/40] END colsample_bytree=0.5, gamma=0.5, learning_rate=0.5, max_depth=8, n_estimators=100;, score=0.479 total time= 1.9min\n",
            "[CV 1/3; 34/40] START colsample_bytree=0.5, gamma=0.5, learning_rate=0.2, max_depth=10, n_estimators=30\n",
            "[CV 1/3; 34/40] END colsample_bytree=0.5, gamma=0.5, learning_rate=0.2, max_depth=10, n_estimators=30;, score=0.392 total time=  46.6s\n",
            "[CV 2/3; 34/40] START colsample_bytree=0.5, gamma=0.5, learning_rate=0.2, max_depth=10, n_estimators=30\n",
            "[CV 2/3; 34/40] END colsample_bytree=0.5, gamma=0.5, learning_rate=0.2, max_depth=10, n_estimators=30;, score=0.326 total time=  44.8s\n",
            "[CV 3/3; 34/40] START colsample_bytree=0.5, gamma=0.5, learning_rate=0.2, max_depth=10, n_estimators=30\n",
            "[CV 3/3; 34/40] END colsample_bytree=0.5, gamma=0.5, learning_rate=0.2, max_depth=10, n_estimators=30;, score=0.466 total time=  45.2s\n",
            "[CV 1/3; 35/40] START colsample_bytree=1, gamma=1, learning_rate=0.5, max_depth=10, n_estimators=30\n",
            "[CV 1/3; 35/40] END colsample_bytree=1, gamma=1, learning_rate=0.5, max_depth=10, n_estimators=30;, score=0.382 total time= 1.2min\n",
            "[CV 2/3; 35/40] START colsample_bytree=1, gamma=1, learning_rate=0.5, max_depth=10, n_estimators=30\n",
            "[CV 2/3; 35/40] END colsample_bytree=1, gamma=1, learning_rate=0.5, max_depth=10, n_estimators=30;, score=0.306 total time= 1.2min\n",
            "[CV 3/3; 35/40] START colsample_bytree=1, gamma=1, learning_rate=0.5, max_depth=10, n_estimators=30\n",
            "[CV 3/3; 35/40] END colsample_bytree=1, gamma=1, learning_rate=0.5, max_depth=10, n_estimators=30;, score=0.461 total time= 1.2min\n",
            "[CV 1/3; 36/40] START colsample_bytree=0.5, gamma=1, learning_rate=0.5, max_depth=8, n_estimators=15\n",
            "[CV 1/3; 36/40] END colsample_bytree=0.5, gamma=1, learning_rate=0.5, max_depth=8, n_estimators=15;, score=0.380 total time=  18.8s\n",
            "[CV 2/3; 36/40] START colsample_bytree=0.5, gamma=1, learning_rate=0.5, max_depth=8, n_estimators=15\n",
            "[CV 2/3; 36/40] END colsample_bytree=0.5, gamma=1, learning_rate=0.5, max_depth=8, n_estimators=15;, score=0.303 total time=  18.5s\n",
            "[CV 3/3; 36/40] START colsample_bytree=0.5, gamma=1, learning_rate=0.5, max_depth=8, n_estimators=15\n",
            "[CV 3/3; 36/40] END colsample_bytree=0.5, gamma=1, learning_rate=0.5, max_depth=8, n_estimators=15;, score=0.433 total time=  18.5s\n",
            "[CV 1/3; 37/40] START colsample_bytree=0.1, gamma=7, learning_rate=0.05, max_depth=2, n_estimators=75\n",
            "[CV 1/3; 37/40] END colsample_bytree=0.1, gamma=7, learning_rate=0.05, max_depth=2, n_estimators=75;, score=0.316 total time=  19.6s\n",
            "[CV 2/3; 37/40] START colsample_bytree=0.1, gamma=7, learning_rate=0.05, max_depth=2, n_estimators=75\n",
            "[CV 2/3; 37/40] END colsample_bytree=0.1, gamma=7, learning_rate=0.05, max_depth=2, n_estimators=75;, score=0.217 total time=  19.1s\n",
            "[CV 3/3; 37/40] START colsample_bytree=0.1, gamma=7, learning_rate=0.05, max_depth=2, n_estimators=75\n",
            "[CV 3/3; 37/40] END colsample_bytree=0.1, gamma=7, learning_rate=0.05, max_depth=2, n_estimators=75;, score=0.286 total time=  19.6s\n",
            "[CV 1/3; 38/40] START colsample_bytree=0.1, gamma=5, learning_rate=0.2, max_depth=8, n_estimators=30\n",
            "[CV 1/3; 38/40] END colsample_bytree=0.1, gamma=5, learning_rate=0.2, max_depth=8, n_estimators=30;, score=0.331 total time=  12.9s\n",
            "[CV 2/3; 38/40] START colsample_bytree=0.1, gamma=5, learning_rate=0.2, max_depth=8, n_estimators=30\n",
            "[CV 2/3; 38/40] END colsample_bytree=0.1, gamma=5, learning_rate=0.2, max_depth=8, n_estimators=30;, score=0.245 total time=  12.4s\n",
            "[CV 3/3; 38/40] START colsample_bytree=0.1, gamma=5, learning_rate=0.2, max_depth=8, n_estimators=30\n",
            "[CV 3/3; 38/40] END colsample_bytree=0.1, gamma=5, learning_rate=0.2, max_depth=8, n_estimators=30;, score=0.336 total time=  12.7s\n",
            "[CV 1/3; 39/40] START colsample_bytree=0.1, gamma=0.5, learning_rate=0.3, max_depth=5, n_estimators=15\n",
            "[CV 1/3; 39/40] END colsample_bytree=0.1, gamma=0.5, learning_rate=0.3, max_depth=5, n_estimators=15;, score=0.319 total time=   5.5s\n",
            "[CV 2/3; 39/40] START colsample_bytree=0.1, gamma=0.5, learning_rate=0.3, max_depth=5, n_estimators=15\n",
            "[CV 2/3; 39/40] END colsample_bytree=0.1, gamma=0.5, learning_rate=0.3, max_depth=5, n_estimators=15;, score=0.222 total time=   5.5s\n",
            "[CV 3/3; 39/40] START colsample_bytree=0.1, gamma=0.5, learning_rate=0.3, max_depth=5, n_estimators=15\n",
            "[CV 3/3; 39/40] END colsample_bytree=0.1, gamma=0.5, learning_rate=0.3, max_depth=5, n_estimators=15;, score=0.254 total time=   5.6s\n",
            "[CV 1/3; 40/40] START colsample_bytree=0.3, gamma=0.5, learning_rate=0.2, max_depth=8, n_estimators=30\n",
            "[CV 1/3; 40/40] END colsample_bytree=0.3, gamma=0.5, learning_rate=0.2, max_depth=8, n_estimators=30;, score=0.388 total time=  26.6s\n",
            "[CV 2/3; 40/40] START colsample_bytree=0.3, gamma=0.5, learning_rate=0.2, max_depth=8, n_estimators=30\n",
            "[CV 2/3; 40/40] END colsample_bytree=0.3, gamma=0.5, learning_rate=0.2, max_depth=8, n_estimators=30;, score=0.308 total time=  26.3s\n",
            "[CV 3/3; 40/40] START colsample_bytree=0.3, gamma=0.5, learning_rate=0.2, max_depth=8, n_estimators=30\n",
            "[CV 3/3; 40/40] END colsample_bytree=0.3, gamma=0.5, learning_rate=0.2, max_depth=8, n_estimators=30;, score=0.435 total time=  26.3s\n",
            "XGBClassifier(colsample_bytree=0.5, gamma=0.5, learning_rate=0.5, max_depth=8,\n",
            "              objective='multi:softprob', random_state=26)\n",
            "{'n_estimators': 100, 'max_depth': 8, 'learning_rate': 0.5, 'gamma': 0.5, 'colsample_bytree': 0.5}\n"
          ]
        }
      ]
    },
    {
      "cell_type": "code",
      "source": [
        "# Resultados con hiperparametros default \n",
        "\n",
        "model = XGBClassifier(random_state = 26)\n",
        "modelo = model.fit(X_train,y_train)"
      ],
      "metadata": {
        "id": "FBgxXcDr2xS7"
      },
      "execution_count": null,
      "outputs": []
    },
    {
      "cell_type": "code",
      "source": [
        "print(f'El mejor score de validación obtenido con hiperparametros default es {top_k_accuracy_score(y_valid, model.predict_proba(X_valid), k=2, labels=modelo.classes_)}')"
      ],
      "metadata": {
        "colab": {
          "base_uri": "https://localhost:8080/"
        },
        "id": "HVGcRllr29-R",
        "outputId": "0bd7df44-a78e-4237-f210-b81fcbefd9fa"
      },
      "execution_count": null,
      "outputs": [
        {
          "output_type": "stream",
          "name": "stdout",
          "text": [
            "El mejor score de validación obtenido con hiperparametros default es 0.5241682360326428\n"
          ]
        }
      ]
    },
    {
      "cell_type": "code",
      "source": [
        "# Prueba con hiperparametros buscados por RandomSearch\n",
        "\n",
        "model_posta2 = XGBClassifier(colsample_bytree=0.5, gamma=0.5, learning_rate=0.5, max_depth=8,\n",
        "              objective='multi:softprob', random_state=26)\n",
        "modelo_postalina2 = model_posta2.fit(X_train,y_train)"
      ],
      "metadata": {
        "id": "w_lehQX0ERPJ"
      },
      "execution_count": null,
      "outputs": []
    },
    {
      "cell_type": "code",
      "source": [
        "print(f'El mejor score de validación obtenido con los hiperparametros buscados por RandomSearch es {top_k_accuracy_score(y_valid, model_posta2.predict_proba(X_valid), k=2, labels=modelo_postalina2.classes_)}')"
      ],
      "metadata": {
        "colab": {
          "base_uri": "https://localhost:8080/"
        },
        "id": "-1Y1jSPnETDT",
        "outputId": "3277c4ad-800d-4bd6-86f9-21cc66d32b2a"
      },
      "execution_count": null,
      "outputs": [
        {
          "output_type": "stream",
          "name": "stdout",
          "text": [
            "El mejor score de validación obtenido con los hiperparametros buscados por RandomSearch es 0.4844632768361582\n"
          ]
        }
      ]
    },
    {
      "cell_type": "markdown",
      "source": [
        "# Para el mejor modelo de ambos, ¿cuál es el score en test?"
      ],
      "metadata": {
        "id": "YhUu34LnFdZM"
      }
    },
    {
      "cell_type": "code",
      "source": [
        "# Uso el modelo de XG Boost con parametros default porque es el que mejor resultado en validacion dio de todos los modelos\n",
        "\n",
        "print(f'El score en test es {top_k_accuracy_score(y_test, model.predict_proba(X_test), k=2, labels=modelo.classes_)}') "
      ],
      "metadata": {
        "colab": {
          "base_uri": "https://localhost:8080/"
        },
        "id": "VcNgvjZxFmAL",
        "outputId": "6f5f7c65-da71-431e-a386-55e592509978"
      },
      "execution_count": null,
      "outputs": [
        {
          "output_type": "stream",
          "name": "stdout",
          "text": [
            "El score en test es 0.478334461746784\n"
          ]
        }
      ]
    }
  ],
  "metadata": {
    "colab": {
      "provenance": []
    },
    "kernelspec": {
      "display_name": "Python 3",
      "name": "python3"
    },
    "language_info": {
      "name": "python"
    }
  },
  "nbformat": 4,
  "nbformat_minor": 0
}